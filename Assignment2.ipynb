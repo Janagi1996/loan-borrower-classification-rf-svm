{
 "cells": [
  {
   "cell_type": "markdown",
   "metadata": {},
   "source": [
    "# Assignment2 - <font color = 'hotpink'>MORGAN KAISER</font>\n",
    "\n",
    "In this assignment, you will be analyzing data from LendingClub.com (www.lendingclub.com). Lending Club connects people who need money (borrowers) with people who have money (investors). Investors want to invest in people who are more likely to pay the investor back. Using the lending data from 2007-2010 and you need to predict whether or not the borrower paid back their loan in full. The final model should minimize the number of borrowers who actually did not pay back their load in full but predicted as they did (this is our model selection criteria).\n",
    "\n",
    "You need to create a Random Forest model and a Support Vector model using the same training/testing data. For both models, you need to optimize the parameters using a Grid Search. \n",
    "- For random forest, test the following n_estimators values: 10, 50, 100, 200, 300, 500, 800\n",
    "- For svm, test the following:\n",
    "    - C values: 0.1,1,10\n",
    "    - gamma values: \"auto\",\"scale\",\n",
    "    - kernel: \"poly\",'linear','rbf'\n",
    "    \n",
    "Do not drop any of the features and make sure to scale them using StandardScaler (otherwise GridSearch for SVM will take a very very long time)\n",
    "\n",
    "At the very bottom of your notebook, please explain how your models have performed and which model performed the best given the criteria.\n",
    "\n",
    "Here are what the columns in the data represent:\n",
    "* credit.policy: 1 if the customer meets the credit underwriting criteria of LendingClub.com, and 0 otherwise.\n",
    "* purpose: The purpose of the loan (takes values \"credit_card\", \"debt_consolidation\", \"educational\", \"major_purchase\", \"small_business\", and \"all_other\").\n",
    "* int.rate: The interest rate of the loan, as a proportion. Borrowers judged by LendingClub.com to be more risky are assigned higher interest rates.\n",
    "* installment: The monthly installments owed by the borrower if the loan is funded.\n",
    "* log.annual.inc: The natural log of the self-reported annual income of the borrower.\n",
    "* dti: The debt-to-income ratio of the borrower (amount of debt divided by annual income).\n",
    "* fico: The FICO credit score of the borrower.\n",
    "* days.with.cr.line: The number of days the borrower has had a credit line.\n",
    "* revol.bal: The borrower's revolving balance (amount unpaid at the end of the credit card billing cycle).\n",
    "* revol.util: The borrower's revolving line utilization rate (the amount of the credit line used relative to total credit available).\n",
    "* inq.last.6mths: The borrower's number of inquiries by creditors in the last 6 months.\n",
    "* delinq.2yrs: The number of times the borrower had been 30+ days past due on a payment in the past 2 years.\n",
    "* pub.rec: The borrower's number of derogatory public records (bankruptcy filings, tax liens, or judgments).\n",
    "* not.fully.paid: 1 if the borrower did not pay back their loan in full, 0 if they paid back their loan in full.\n",
    "\n",
    "\n"
   ]
  },
  {
   "cell_type": "markdown",
   "metadata": {},
   "source": [
    "# Import Libraries\n"
   ]
  },
  {
   "cell_type": "code",
   "execution_count": 1,
   "metadata": {},
   "outputs": [
    {
     "name": "stdout",
     "output_type": "stream",
     "text": [
      "libraries have been imported.\n"
     ]
    }
   ],
   "source": [
    "import pandas as pd, numpy as np, matplotlib.pyplot as plt, seaborn as sns\n",
    "%matplotlib inline\n",
    "print('libraries have been imported.')"
   ]
  },
  {
   "cell_type": "markdown",
   "metadata": {},
   "source": [
    "# Get the Data\n",
    "\n"
   ]
  },
  {
   "cell_type": "code",
   "execution_count": 2,
   "metadata": {
    "scrolled": false
   },
   "outputs": [
    {
     "name": "stdout",
     "output_type": "stream",
     "text": [
      "   credit.policy             purpose  int.rate  installment  log.annual.inc  \\\n",
      "0              1  debt_consolidation    0.1670       674.53       10.887437   \n",
      "1              1           all_other    0.0740        82.31        9.210340   \n",
      "2              1           all_other    0.1218       166.50       10.915088   \n",
      "3              1  debt_consolidation    0.1287       420.42       10.545341   \n",
      "4              1  debt_consolidation    0.1114        82.01       11.156251   \n",
      "\n",
      "     dti  fico  days.with.cr.line  revol.bal  revol.util  inq.last.6mths  \\\n",
      "0  19.87   667        3904.958333      17176        73.4               1   \n",
      "1   1.20   807        3899.958333         82         2.3               0   \n",
      "2  22.45   702        1800.000000      16957        67.0               3   \n",
      "3  10.39   707        3119.958333      12343        67.8               0   \n",
      "4  18.09   712        8130.000000      14482        84.2               0   \n",
      "\n",
      "   delinq.2yrs  pub.rec  not.fully.paid  \n",
      "0            0        0               1  \n",
      "1            0        0               1  \n",
      "2            0        0               1  \n",
      "3            0        0               1  \n",
      "4            0        0               1  \n"
     ]
    }
   ],
   "source": [
    "df = pd.read_csv('loan_data.csv')\n",
    "print(df.head())"
   ]
  },
  {
   "cell_type": "code",
   "execution_count": 3,
   "metadata": {
    "scrolled": true
   },
   "outputs": [
    {
     "name": "stdout",
     "output_type": "stream",
     "text": [
      "<class 'pandas.core.frame.DataFrame'>\n",
      "RangeIndex: 9578 entries, 0 to 9577\n",
      "Data columns (total 14 columns):\n",
      "credit.policy        9578 non-null int64\n",
      "purpose              9578 non-null object\n",
      "int.rate             9578 non-null float64\n",
      "installment          9578 non-null float64\n",
      "log.annual.inc       9578 non-null float64\n",
      "dti                  9578 non-null float64\n",
      "fico                 9578 non-null int64\n",
      "days.with.cr.line    9578 non-null float64\n",
      "revol.bal            9578 non-null int64\n",
      "revol.util           9578 non-null float64\n",
      "inq.last.6mths       9578 non-null int64\n",
      "delinq.2yrs          9578 non-null int64\n",
      "pub.rec              9578 non-null int64\n",
      "not.fully.paid       9578 non-null int64\n",
      "dtypes: float64(6), int64(7), object(1)\n",
      "memory usage: 1.0+ MB\n",
      "None\n"
     ]
    }
   ],
   "source": [
    "print(df.info())"
   ]
  },
  {
   "cell_type": "markdown",
   "metadata": {},
   "source": [
    "So we're working with 14 cols, 9578 rows/entries, and no null values. Peep the *purpose* column - it is of object dtype. we will most likely need to convert this col later on."
   ]
  },
  {
   "cell_type": "code",
   "execution_count": 4,
   "metadata": {},
   "outputs": [
    {
     "name": "stdout",
     "output_type": "stream",
     "text": [
      "       credit.policy     int.rate  installment  log.annual.inc          dti  \\\n",
      "count    9578.000000  9578.000000  9578.000000     9578.000000  9578.000000   \n",
      "mean        0.750783     0.125528   322.757966       10.928091    12.805928   \n",
      "std         0.432582     0.027050   210.603178        0.626615     6.926247   \n",
      "min         0.000000     0.060000    15.670000        7.547502     0.000000   \n",
      "25%         1.000000     0.109900   164.562500       10.545447     7.382500   \n",
      "50%         1.000000     0.125300   270.410000       10.915088    12.900000   \n",
      "75%         1.000000     0.142600   444.560000       11.289832    18.180000   \n",
      "max         1.000000     0.216400   940.140000       14.180154    29.960000   \n",
      "\n",
      "              fico  days.with.cr.line     revol.bal   revol.util  \\\n",
      "count  9578.000000        9578.000000  9.578000e+03  9578.000000   \n",
      "mean    708.647004        4531.012359  1.790938e+04    47.812683   \n",
      "std      37.836367        2507.372905  3.855329e+04    29.131930   \n",
      "min     612.000000         178.958333  0.000000e+00     0.000000   \n",
      "25%     682.000000        2791.291667  3.140500e+03    23.700000   \n",
      "50%     702.000000        4110.000000  8.593000e+03    47.800000   \n",
      "75%     732.000000        5707.781250  1.849325e+04    72.100000   \n",
      "max     827.000000       17639.958330  1.207359e+06   119.000000   \n",
      "\n",
      "       inq.last.6mths  delinq.2yrs      pub.rec  not.fully.paid  \n",
      "count     9578.000000  9578.000000  9578.000000     9578.000000  \n",
      "mean         1.779808     0.164022     0.063688        0.248486  \n",
      "std          2.447285     0.545643     0.265119        0.432158  \n",
      "min          0.000000     0.000000     0.000000        0.000000  \n",
      "25%          0.000000     0.000000     0.000000        0.000000  \n",
      "50%          1.000000     0.000000     0.000000        0.000000  \n",
      "75%          3.000000     0.000000     0.000000        0.000000  \n",
      "max         33.000000    13.000000     5.000000        1.000000  \n"
     ]
    }
   ],
   "source": [
    "print(df.describe())"
   ]
  },
  {
   "cell_type": "markdown",
   "metadata": {},
   "source": [
    "# Exploratory Data Analysis"
   ]
  },
  {
   "cell_type": "markdown",
   "metadata": {},
   "source": [
    "Verifying there are 0 nulls in dataset..."
   ]
  },
  {
   "cell_type": "code",
   "execution_count": 5,
   "metadata": {},
   "outputs": [
    {
     "data": {
      "image/png": "[encoded data removed]",
      "text/plain": [
       "<Figure size 432x288 with 2 Axes>"
      ]
     },
     "metadata": {
      "needs_background": "light"
     },
     "output_type": "display_data"
    }
   ],
   "source": [
    "heat_map = sns.heatmap(df.isnull(), yticklabels = False, cbar = True, cmap = \"PuRd\", vmin = 0, vmax = 1)\n",
    "\n",
    "plt.show()"
   ]
  },
  {
   "cell_type": "code",
   "execution_count": 6,
   "metadata": {
    "scrolled": true
   },
   "outputs": [
    {
     "data": {
      "text/plain": [
       "<matplotlib.axes._subplots.AxesSubplot at 0x1d5d4a58cf8>"
      ]
     },
     "execution_count": 6,
     "metadata": {},
     "output_type": "execute_result"
    },
    {
     "data": {
      "image/png": "[encoded data removed]",
      "text/plain": [
       "<Figure size 432x288 with 1 Axes>"
      ]
     },
     "metadata": {},
     "output_type": "display_data"
    }
   ],
   "source": [
    "# a countplot shows the counts of observations in each categorical bin using bars\n",
    "# think of it as a histogram across a categorical, instead of quantitative, variable\n",
    "\n",
    "sns.set_style(\"whitegrid\")\n",
    "sns.countplot(data = df, x = 'not.fully.paid', palette = 'husl')"
   ]
  },
  {
   "cell_type": "markdown",
   "metadata": {},
   "source": [
    "Looks like a majority pays their loans back in full."
   ]
  },
  {
   "cell_type": "markdown",
   "metadata": {},
   "source": [
    "# Data Cleaning"
   ]
  },
  {
   "cell_type": "markdown",
   "metadata": {},
   "source": [
    "Need to convert df['purpose'] to numerical values. If this isn't done, then a **ValueError: could not convert string to float: 'all_other'** will be thrown when running Random Forest model. "
   ]
  },
  {
   "cell_type": "markdown",
   "metadata": {},
   "source": [
    "*From Dr. Ozturk's titanic exercise:*\n",
    "\n",
    "*We'll need to convert categorical features to dummy variables using pandas! Otherwise our machine learning algorithm won't be able to directly take in those features as inputs.*"
   ]
  },
  {
   "cell_type": "code",
   "execution_count": 7,
   "metadata": {},
   "outputs": [],
   "source": [
    "purpose = pd.get_dummies(df[\"purpose\"])"
   ]
  },
  {
   "cell_type": "code",
   "execution_count": 8,
   "metadata": {
    "scrolled": true
   },
   "outputs": [
    {
     "data": {
      "text/html": [
       "<div>\n",
       "<style scoped>\n",
       "    .dataframe tbody tr th:only-of-type {\n",
       "        vertical-align: middle;\n",
       "    }\n",
       "\n",
       "    .dataframe tbody tr th {\n",
       "        vertical-align: top;\n",
       "    }\n",
       "\n",
       "    .dataframe thead th {\n",
       "        text-align: right;\n",
       "    }\n",
       "</style>\n",
       "<table border=\"1\" class=\"dataframe\">\n",
       "  <thead>\n",
       "    <tr style=\"text-align: right;\">\n",
       "      <th></th>\n",
       "      <th>all_other</th>\n",
       "      <th>credit_card</th>\n",
       "      <th>debt_consolidation</th>\n",
       "      <th>educational</th>\n",
       "      <th>home_improvement</th>\n",
       "      <th>major_purchase</th>\n",
       "      <th>small_business</th>\n",
       "    </tr>\n",
       "  </thead>\n",
       "  <tbody>\n",
       "    <tr>\n",
       "      <th>0</th>\n",
       "      <td>0</td>\n",
       "      <td>0</td>\n",
       "      <td>1</td>\n",
       "      <td>0</td>\n",
       "      <td>0</td>\n",
       "      <td>0</td>\n",
       "      <td>0</td>\n",
       "    </tr>\n",
       "    <tr>\n",
       "      <th>1</th>\n",
       "      <td>1</td>\n",
       "      <td>0</td>\n",
       "      <td>0</td>\n",
       "      <td>0</td>\n",
       "      <td>0</td>\n",
       "      <td>0</td>\n",
       "      <td>0</td>\n",
       "    </tr>\n",
       "    <tr>\n",
       "      <th>2</th>\n",
       "      <td>1</td>\n",
       "      <td>0</td>\n",
       "      <td>0</td>\n",
       "      <td>0</td>\n",
       "      <td>0</td>\n",
       "      <td>0</td>\n",
       "      <td>0</td>\n",
       "    </tr>\n",
       "    <tr>\n",
       "      <th>3</th>\n",
       "      <td>0</td>\n",
       "      <td>0</td>\n",
       "      <td>1</td>\n",
       "      <td>0</td>\n",
       "      <td>0</td>\n",
       "      <td>0</td>\n",
       "      <td>0</td>\n",
       "    </tr>\n",
       "    <tr>\n",
       "      <th>4</th>\n",
       "      <td>0</td>\n",
       "      <td>0</td>\n",
       "      <td>1</td>\n",
       "      <td>0</td>\n",
       "      <td>0</td>\n",
       "      <td>0</td>\n",
       "      <td>0</td>\n",
       "    </tr>\n",
       "  </tbody>\n",
       "</table>\n",
       "</div>"
      ],
      "text/plain": [
       "   all_other  credit_card  debt_consolidation  educational  home_improvement  \\\n",
       "0          0            0                   1            0                 0   \n",
       "1          1            0                   0            0                 0   \n",
       "2          1            0                   0            0                 0   \n",
       "3          0            0                   1            0                 0   \n",
       "4          0            0                   1            0                 0   \n",
       "\n",
       "   major_purchase  small_business  \n",
       "0               0               0  \n",
       "1               0               0  \n",
       "2               0               0  \n",
       "3               0               0  \n",
       "4               0               0  "
      ]
     },
     "execution_count": 8,
     "metadata": {},
     "output_type": "execute_result"
    }
   ],
   "source": [
    "purpose.head()"
   ]
  },
  {
   "cell_type": "code",
   "execution_count": 9,
   "metadata": {
    "scrolled": true
   },
   "outputs": [
    {
     "data": {
      "text/html": [
       "<div>\n",
       "<style scoped>\n",
       "    .dataframe tbody tr th:only-of-type {\n",
       "        vertical-align: middle;\n",
       "    }\n",
       "\n",
       "    .dataframe tbody tr th {\n",
       "        vertical-align: top;\n",
       "    }\n",
       "\n",
       "    .dataframe thead th {\n",
       "        text-align: right;\n",
       "    }\n",
       "</style>\n",
       "<table border=\"1\" class=\"dataframe\">\n",
       "  <thead>\n",
       "    <tr style=\"text-align: right;\">\n",
       "      <th></th>\n",
       "      <th>credit.policy</th>\n",
       "      <th>purpose</th>\n",
       "      <th>int.rate</th>\n",
       "      <th>installment</th>\n",
       "      <th>log.annual.inc</th>\n",
       "      <th>dti</th>\n",
       "      <th>fico</th>\n",
       "      <th>days.with.cr.line</th>\n",
       "      <th>revol.bal</th>\n",
       "      <th>revol.util</th>\n",
       "      <th>...</th>\n",
       "      <th>delinq.2yrs</th>\n",
       "      <th>pub.rec</th>\n",
       "      <th>not.fully.paid</th>\n",
       "      <th>all_other</th>\n",
       "      <th>credit_card</th>\n",
       "      <th>debt_consolidation</th>\n",
       "      <th>educational</th>\n",
       "      <th>home_improvement</th>\n",
       "      <th>major_purchase</th>\n",
       "      <th>small_business</th>\n",
       "    </tr>\n",
       "  </thead>\n",
       "  <tbody>\n",
       "    <tr>\n",
       "      <th>0</th>\n",
       "      <td>1</td>\n",
       "      <td>debt_consolidation</td>\n",
       "      <td>0.1670</td>\n",
       "      <td>674.53</td>\n",
       "      <td>10.887437</td>\n",
       "      <td>19.87</td>\n",
       "      <td>667</td>\n",
       "      <td>3904.958333</td>\n",
       "      <td>17176</td>\n",
       "      <td>73.4</td>\n",
       "      <td>...</td>\n",
       "      <td>0</td>\n",
       "      <td>0</td>\n",
       "      <td>1</td>\n",
       "      <td>0</td>\n",
       "      <td>0</td>\n",
       "      <td>1</td>\n",
       "      <td>0</td>\n",
       "      <td>0</td>\n",
       "      <td>0</td>\n",
       "      <td>0</td>\n",
       "    </tr>\n",
       "    <tr>\n",
       "      <th>1</th>\n",
       "      <td>1</td>\n",
       "      <td>all_other</td>\n",
       "      <td>0.0740</td>\n",
       "      <td>82.31</td>\n",
       "      <td>9.210340</td>\n",
       "      <td>1.20</td>\n",
       "      <td>807</td>\n",
       "      <td>3899.958333</td>\n",
       "      <td>82</td>\n",
       "      <td>2.3</td>\n",
       "      <td>...</td>\n",
       "      <td>0</td>\n",
       "      <td>0</td>\n",
       "      <td>1</td>\n",
       "      <td>1</td>\n",
       "      <td>0</td>\n",
       "      <td>0</td>\n",
       "      <td>0</td>\n",
       "      <td>0</td>\n",
       "      <td>0</td>\n",
       "      <td>0</td>\n",
       "    </tr>\n",
       "    <tr>\n",
       "      <th>2</th>\n",
       "      <td>1</td>\n",
       "      <td>all_other</td>\n",
       "      <td>0.1218</td>\n",
       "      <td>166.50</td>\n",
       "      <td>10.915088</td>\n",
       "      <td>22.45</td>\n",
       "      <td>702</td>\n",
       "      <td>1800.000000</td>\n",
       "      <td>16957</td>\n",
       "      <td>67.0</td>\n",
       "      <td>...</td>\n",
       "      <td>0</td>\n",
       "      <td>0</td>\n",
       "      <td>1</td>\n",
       "      <td>1</td>\n",
       "      <td>0</td>\n",
       "      <td>0</td>\n",
       "      <td>0</td>\n",
       "      <td>0</td>\n",
       "      <td>0</td>\n",
       "      <td>0</td>\n",
       "    </tr>\n",
       "    <tr>\n",
       "      <th>3</th>\n",
       "      <td>1</td>\n",
       "      <td>debt_consolidation</td>\n",
       "      <td>0.1287</td>\n",
       "      <td>420.42</td>\n",
       "      <td>10.545341</td>\n",
       "      <td>10.39</td>\n",
       "      <td>707</td>\n",
       "      <td>3119.958333</td>\n",
       "      <td>12343</td>\n",
       "      <td>67.8</td>\n",
       "      <td>...</td>\n",
       "      <td>0</td>\n",
       "      <td>0</td>\n",
       "      <td>1</td>\n",
       "      <td>0</td>\n",
       "      <td>0</td>\n",
       "      <td>1</td>\n",
       "      <td>0</td>\n",
       "      <td>0</td>\n",
       "      <td>0</td>\n",
       "      <td>0</td>\n",
       "    </tr>\n",
       "    <tr>\n",
       "      <th>4</th>\n",
       "      <td>1</td>\n",
       "      <td>debt_consolidation</td>\n",
       "      <td>0.1114</td>\n",
       "      <td>82.01</td>\n",
       "      <td>11.156251</td>\n",
       "      <td>18.09</td>\n",
       "      <td>712</td>\n",
       "      <td>8130.000000</td>\n",
       "      <td>14482</td>\n",
       "      <td>84.2</td>\n",
       "      <td>...</td>\n",
       "      <td>0</td>\n",
       "      <td>0</td>\n",
       "      <td>1</td>\n",
       "      <td>0</td>\n",
       "      <td>0</td>\n",
       "      <td>1</td>\n",
       "      <td>0</td>\n",
       "      <td>0</td>\n",
       "      <td>0</td>\n",
       "      <td>0</td>\n",
       "    </tr>\n",
       "  </tbody>\n",
       "</table>\n",
       "<p>5 rows × 21 columns</p>\n",
       "</div>"
      ],
      "text/plain": [
       "   credit.policy             purpose  int.rate  installment  log.annual.inc  \\\n",
       "0              1  debt_consolidation    0.1670       674.53       10.887437   \n",
       "1              1           all_other    0.0740        82.31        9.210340   \n",
       "2              1           all_other    0.1218       166.50       10.915088   \n",
       "3              1  debt_consolidation    0.1287       420.42       10.545341   \n",
       "4              1  debt_consolidation    0.1114        82.01       11.156251   \n",
       "\n",
       "     dti  fico  days.with.cr.line  revol.bal  revol.util  ...  delinq.2yrs  \\\n",
       "0  19.87   667        3904.958333      17176        73.4  ...            0   \n",
       "1   1.20   807        3899.958333         82         2.3  ...            0   \n",
       "2  22.45   702        1800.000000      16957        67.0  ...            0   \n",
       "3  10.39   707        3119.958333      12343        67.8  ...            0   \n",
       "4  18.09   712        8130.000000      14482        84.2  ...            0   \n",
       "\n",
       "   pub.rec  not.fully.paid  all_other  credit_card  debt_consolidation  \\\n",
       "0        0               1          0            0                   1   \n",
       "1        0               1          1            0                   0   \n",
       "2        0               1          1            0                   0   \n",
       "3        0               1          0            0                   1   \n",
       "4        0               1          0            0                   1   \n",
       "\n",
       "   educational  home_improvement  major_purchase  small_business  \n",
       "0            0                 0               0               0  \n",
       "1            0                 0               0               0  \n",
       "2            0                 0               0               0  \n",
       "3            0                 0               0               0  \n",
       "4            0                 0               0               0  \n",
       "\n",
       "[5 rows x 21 columns]"
      ]
     },
     "execution_count": 9,
     "metadata": {},
     "output_type": "execute_result"
    }
   ],
   "source": [
    "# adding col back to df \n",
    "\n",
    "df2 = pd.concat([df, purpose], axis=1)\n",
    "df2.head()"
   ]
  },
  {
   "cell_type": "code",
   "execution_count": 10,
   "metadata": {},
   "outputs": [],
   "source": [
    "df2.drop([\"purpose\"], axis=1, inplace=True)"
   ]
  },
  {
   "cell_type": "code",
   "execution_count": 11,
   "metadata": {},
   "outputs": [
    {
     "data": {
      "text/html": [
       "<div>\n",
       "<style scoped>\n",
       "    .dataframe tbody tr th:only-of-type {\n",
       "        vertical-align: middle;\n",
       "    }\n",
       "\n",
       "    .dataframe tbody tr th {\n",
       "        vertical-align: top;\n",
       "    }\n",
       "\n",
       "    .dataframe thead th {\n",
       "        text-align: right;\n",
       "    }\n",
       "</style>\n",
       "<table border=\"1\" class=\"dataframe\">\n",
       "  <thead>\n",
       "    <tr style=\"text-align: right;\">\n",
       "      <th></th>\n",
       "      <th>credit.policy</th>\n",
       "      <th>int.rate</th>\n",
       "      <th>installment</th>\n",
       "      <th>log.annual.inc</th>\n",
       "      <th>dti</th>\n",
       "      <th>fico</th>\n",
       "      <th>days.with.cr.line</th>\n",
       "      <th>revol.bal</th>\n",
       "      <th>revol.util</th>\n",
       "      <th>inq.last.6mths</th>\n",
       "      <th>delinq.2yrs</th>\n",
       "      <th>pub.rec</th>\n",
       "      <th>not.fully.paid</th>\n",
       "      <th>all_other</th>\n",
       "      <th>credit_card</th>\n",
       "      <th>debt_consolidation</th>\n",
       "      <th>educational</th>\n",
       "      <th>home_improvement</th>\n",
       "      <th>major_purchase</th>\n",
       "      <th>small_business</th>\n",
       "    </tr>\n",
       "  </thead>\n",
       "  <tbody>\n",
       "    <tr>\n",
       "      <th>0</th>\n",
       "      <td>1</td>\n",
       "      <td>0.1670</td>\n",
       "      <td>674.53</td>\n",
       "      <td>10.887437</td>\n",
       "      <td>19.87</td>\n",
       "      <td>667</td>\n",
       "      <td>3904.958333</td>\n",
       "      <td>17176</td>\n",
       "      <td>73.4</td>\n",
       "      <td>1</td>\n",
       "      <td>0</td>\n",
       "      <td>0</td>\n",
       "      <td>1</td>\n",
       "      <td>0</td>\n",
       "      <td>0</td>\n",
       "      <td>1</td>\n",
       "      <td>0</td>\n",
       "      <td>0</td>\n",
       "      <td>0</td>\n",
       "      <td>0</td>\n",
       "    </tr>\n",
       "    <tr>\n",
       "      <th>1</th>\n",
       "      <td>1</td>\n",
       "      <td>0.0740</td>\n",
       "      <td>82.31</td>\n",
       "      <td>9.210340</td>\n",
       "      <td>1.20</td>\n",
       "      <td>807</td>\n",
       "      <td>3899.958333</td>\n",
       "      <td>82</td>\n",
       "      <td>2.3</td>\n",
       "      <td>0</td>\n",
       "      <td>0</td>\n",
       "      <td>0</td>\n",
       "      <td>1</td>\n",
       "      <td>1</td>\n",
       "      <td>0</td>\n",
       "      <td>0</td>\n",
       "      <td>0</td>\n",
       "      <td>0</td>\n",
       "      <td>0</td>\n",
       "      <td>0</td>\n",
       "    </tr>\n",
       "    <tr>\n",
       "      <th>2</th>\n",
       "      <td>1</td>\n",
       "      <td>0.1218</td>\n",
       "      <td>166.50</td>\n",
       "      <td>10.915088</td>\n",
       "      <td>22.45</td>\n",
       "      <td>702</td>\n",
       "      <td>1800.000000</td>\n",
       "      <td>16957</td>\n",
       "      <td>67.0</td>\n",
       "      <td>3</td>\n",
       "      <td>0</td>\n",
       "      <td>0</td>\n",
       "      <td>1</td>\n",
       "      <td>1</td>\n",
       "      <td>0</td>\n",
       "      <td>0</td>\n",
       "      <td>0</td>\n",
       "      <td>0</td>\n",
       "      <td>0</td>\n",
       "      <td>0</td>\n",
       "    </tr>\n",
       "    <tr>\n",
       "      <th>3</th>\n",
       "      <td>1</td>\n",
       "      <td>0.1287</td>\n",
       "      <td>420.42</td>\n",
       "      <td>10.545341</td>\n",
       "      <td>10.39</td>\n",
       "      <td>707</td>\n",
       "      <td>3119.958333</td>\n",
       "      <td>12343</td>\n",
       "      <td>67.8</td>\n",
       "      <td>0</td>\n",
       "      <td>0</td>\n",
       "      <td>0</td>\n",
       "      <td>1</td>\n",
       "      <td>0</td>\n",
       "      <td>0</td>\n",
       "      <td>1</td>\n",
       "      <td>0</td>\n",
       "      <td>0</td>\n",
       "      <td>0</td>\n",
       "      <td>0</td>\n",
       "    </tr>\n",
       "    <tr>\n",
       "      <th>4</th>\n",
       "      <td>1</td>\n",
       "      <td>0.1114</td>\n",
       "      <td>82.01</td>\n",
       "      <td>11.156251</td>\n",
       "      <td>18.09</td>\n",
       "      <td>712</td>\n",
       "      <td>8130.000000</td>\n",
       "      <td>14482</td>\n",
       "      <td>84.2</td>\n",
       "      <td>0</td>\n",
       "      <td>0</td>\n",
       "      <td>0</td>\n",
       "      <td>1</td>\n",
       "      <td>0</td>\n",
       "      <td>0</td>\n",
       "      <td>1</td>\n",
       "      <td>0</td>\n",
       "      <td>0</td>\n",
       "      <td>0</td>\n",
       "      <td>0</td>\n",
       "    </tr>\n",
       "  </tbody>\n",
       "</table>\n",
       "</div>"
      ],
      "text/plain": [
       "   credit.policy  int.rate  installment  log.annual.inc    dti  fico  \\\n",
       "0              1    0.1670       674.53       10.887437  19.87   667   \n",
       "1              1    0.0740        82.31        9.210340   1.20   807   \n",
       "2              1    0.1218       166.50       10.915088  22.45   702   \n",
       "3              1    0.1287       420.42       10.545341  10.39   707   \n",
       "4              1    0.1114        82.01       11.156251  18.09   712   \n",
       "\n",
       "   days.with.cr.line  revol.bal  revol.util  inq.last.6mths  delinq.2yrs  \\\n",
       "0        3904.958333      17176        73.4               1            0   \n",
       "1        3899.958333         82         2.3               0            0   \n",
       "2        1800.000000      16957        67.0               3            0   \n",
       "3        3119.958333      12343        67.8               0            0   \n",
       "4        8130.000000      14482        84.2               0            0   \n",
       "\n",
       "   pub.rec  not.fully.paid  all_other  credit_card  debt_consolidation  \\\n",
       "0        0               1          0            0                   1   \n",
       "1        0               1          1            0                   0   \n",
       "2        0               1          1            0                   0   \n",
       "3        0               1          0            0                   1   \n",
       "4        0               1          0            0                   1   \n",
       "\n",
       "   educational  home_improvement  major_purchase  small_business  \n",
       "0            0                 0               0               0  \n",
       "1            0                 0               0               0  \n",
       "2            0                 0               0               0  \n",
       "3            0                 0               0               0  \n",
       "4            0                 0               0               0  "
      ]
     },
     "execution_count": 11,
     "metadata": {},
     "output_type": "execute_result"
    }
   ],
   "source": [
    "df2.head()"
   ]
  },
  {
   "cell_type": "markdown",
   "metadata": {},
   "source": [
    "# Train Test Split\n"
   ]
  },
  {
   "cell_type": "code",
   "execution_count": 12,
   "metadata": {},
   "outputs": [],
   "source": [
    "from sklearn.model_selection import train_test_split\n",
    "\n",
    "X = df2.drop('not.fully.paid', axis=1)\n",
    "y = df2['not.fully.paid']"
   ]
  },
  {
   "cell_type": "code",
   "execution_count": 13,
   "metadata": {},
   "outputs": [],
   "source": [
    "# scaling all features - important step here! \n",
    "\n",
    "from sklearn.preprocessing import StandardScaler\n",
    "\n",
    "sc = StandardScaler()\n",
    "X_scaled = sc.fit_transform(X)"
   ]
  },
  {
   "cell_type": "code",
   "execution_count": 14,
   "metadata": {},
   "outputs": [],
   "source": [
    "X_train, X_test, y_train, y_test = train_test_split(X_scaled, y, test_size=0.30)"
   ]
  },
  {
   "cell_type": "markdown",
   "metadata": {},
   "source": [
    "# Training - <font color = 'hotpink'>RANDOM FOREST</font>\n"
   ]
  },
  {
   "cell_type": "code",
   "execution_count": 15,
   "metadata": {},
   "outputs": [
    {
     "name": "stderr",
     "output_type": "stream",
     "text": [
      "C:\\Users\\Morgan Kaiser\\Anaconda3\\Anaconda\\New folder\\lib\\site-packages\\sklearn\\ensemble\\forest.py:245: FutureWarning: The default value of n_estimators will change from 10 in version 0.20 to 100 in 0.22.\n",
      "  \"10 in version 0.20 to 100 in 0.22.\", FutureWarning)\n"
     ]
    },
    {
     "data": {
      "text/plain": [
       "RandomForestClassifier(bootstrap=True, class_weight=None, criterion='gini',\n",
       "                       max_depth=None, max_features='auto', max_leaf_nodes=None,\n",
       "                       min_impurity_decrease=0.0, min_impurity_split=None,\n",
       "                       min_samples_leaf=1, min_samples_split=2,\n",
       "                       min_weight_fraction_leaf=0.0, n_estimators=10,\n",
       "                       n_jobs=None, oob_score=False, random_state=42, verbose=0,\n",
       "                       warm_start=False)"
      ]
     },
     "execution_count": 15,
     "metadata": {},
     "output_type": "execute_result"
    }
   ],
   "source": [
    "from sklearn.ensemble import RandomForestClassifier\n",
    "\n",
    "rfc = RandomForestClassifier(random_state=42)\n",
    "rfc.fit(X_train, y_train)"
   ]
  },
  {
   "cell_type": "markdown",
   "metadata": {},
   "source": [
    "# Predictions and Evaluation - <font color = 'hotpink'>RANDOM FOREST</font>\n"
   ]
  },
  {
   "cell_type": "code",
   "execution_count": 16,
   "metadata": {},
   "outputs": [],
   "source": [
    "rfc_pred = rfc.predict(X_test)"
   ]
  },
  {
   "cell_type": "code",
   "execution_count": 17,
   "metadata": {},
   "outputs": [
    {
     "name": "stdout",
     "output_type": "stream",
     "text": [
      "[[2047  113]\n",
      " [ 348  366]]\n"
     ]
    }
   ],
   "source": [
    "from sklearn.metrics import classification_report,confusion_matrix\n",
    "\n",
    "print(confusion_matrix(y_test,rfc_pred))"
   ]
  },
  {
   "cell_type": "code",
   "execution_count": 18,
   "metadata": {},
   "outputs": [
    {
     "name": "stdout",
     "output_type": "stream",
     "text": [
      "              precision    recall  f1-score   support\n",
      "\n",
      "           0       0.85      0.95      0.90      2160\n",
      "           1       0.76      0.51      0.61       714\n",
      "\n",
      "    accuracy                           0.84      2874\n",
      "   macro avg       0.81      0.73      0.76      2874\n",
      "weighted avg       0.83      0.84      0.83      2874\n",
      "\n"
     ]
    }
   ],
   "source": [
    "print(classification_report(y_test,rfc_pred))"
   ]
  },
  {
   "cell_type": "markdown",
   "metadata": {},
   "source": [
    "# Grid Search - <font color = 'hotpink'>RANDOM FOREST</font>"
   ]
  },
  {
   "cell_type": "markdown",
   "metadata": {},
   "source": [
    "*For random forest, test the following n_estimators values: 10, 50, 100, 200, 300, 500, 800*"
   ]
  },
  {
   "cell_type": "code",
   "execution_count": 20,
   "metadata": {},
   "outputs": [],
   "source": [
    "random_param_grid = {'n_estimators': [10, 50, 100, 200, 300, 500, 800],\n",
    "                    'max_depth': [4, 5, 6, 7, 8],\n",
    "                    'criterion': ['entropy', 'gini']}"
   ]
  },
  {
   "cell_type": "code",
   "execution_count": 21,
   "metadata": {},
   "outputs": [],
   "source": [
    "from sklearn.model_selection import GridSearchCV"
   ]
  },
  {
   "cell_type": "code",
   "execution_count": 22,
   "metadata": {},
   "outputs": [],
   "source": [
    "# change svc() call to estimator = rfc aka randomforest classifier \n",
    "# variable defined earlier\n",
    "\n",
    "random_grid = GridSearchCV(estimator = rfc, param_grid = random_param_grid, verbose=3)"
   ]
  },
  {
   "cell_type": "code",
   "execution_count": 23,
   "metadata": {},
   "outputs": [
    {
     "name": "stderr",
     "output_type": "stream",
     "text": [
      "C:\\Users\\Morgan Kaiser\\Anaconda3\\Anaconda\\New folder\\lib\\site-packages\\sklearn\\model_selection\\_split.py:1978: FutureWarning: The default value of cv will change from 3 to 5 in version 0.22. Specify it explicitly to silence this warning.\n",
      "  warnings.warn(CV_WARNING, FutureWarning)\n",
      "[Parallel(n_jobs=1)]: Using backend SequentialBackend with 1 concurrent workers.\n",
      "[Parallel(n_jobs=1)]: Done   1 out of   1 | elapsed:    0.0s remaining:    0.0s\n",
      "[Parallel(n_jobs=1)]: Done   2 out of   2 | elapsed:    0.0s remaining:    0.0s\n"
     ]
    },
    {
     "name": "stdout",
     "output_type": "stream",
     "text": [
      "Fitting 3 folds for each of 70 candidates, totalling 210 fits\n",
      "[CV] criterion=entropy, max_depth=4, n_estimators=10 .................\n",
      "[CV]  criterion=entropy, max_depth=4, n_estimators=10, score=0.755, total=   0.1s\n",
      "[CV] criterion=entropy, max_depth=4, n_estimators=10 .................\n",
      "[CV]  criterion=entropy, max_depth=4, n_estimators=10, score=0.754, total=   0.0s\n",
      "[CV] criterion=entropy, max_depth=4, n_estimators=10 .................\n",
      "[CV]  criterion=entropy, max_depth=4, n_estimators=10, score=0.756, total=   0.0s\n",
      "[CV] criterion=entropy, max_depth=4, n_estimators=50 .................\n",
      "[CV]  criterion=entropy, max_depth=4, n_estimators=50, score=0.753, total=   0.2s\n",
      "[CV] criterion=entropy, max_depth=4, n_estimators=50 .................\n",
      "[CV]  criterion=entropy, max_depth=4, n_estimators=50, score=0.755, total=   0.2s\n",
      "[CV] criterion=entropy, max_depth=4, n_estimators=50 .................\n",
      "[CV]  criterion=entropy, max_depth=4, n_estimators=50, score=0.752, total=   0.3s\n",
      "[CV] criterion=entropy, max_depth=4, n_estimators=100 ................\n",
      "[CV]  criterion=entropy, max_depth=4, n_estimators=100, score=0.753, total=   0.5s\n",
      "[CV] criterion=entropy, max_depth=4, n_estimators=100 ................\n",
      "[CV]  criterion=entropy, max_depth=4, n_estimators=100, score=0.755, total=   0.3s\n",
      "[CV] criterion=entropy, max_depth=4, n_estimators=100 ................\n",
      "[CV]  criterion=entropy, max_depth=4, n_estimators=100, score=0.754, total=   0.4s\n",
      "[CV] criterion=entropy, max_depth=4, n_estimators=200 ................\n",
      "[CV]  criterion=entropy, max_depth=4, n_estimators=200, score=0.753, total=   0.8s\n",
      "[CV] criterion=entropy, max_depth=4, n_estimators=200 ................\n",
      "[CV]  criterion=entropy, max_depth=4, n_estimators=200, score=0.754, total=   0.7s\n",
      "[CV] criterion=entropy, max_depth=4, n_estimators=200 ................\n",
      "[CV]  criterion=entropy, max_depth=4, n_estimators=200, score=0.753, total=   0.7s\n",
      "[CV] criterion=entropy, max_depth=4, n_estimators=300 ................\n",
      "[CV]  criterion=entropy, max_depth=4, n_estimators=300, score=0.752, total=   1.0s\n",
      "[CV] criterion=entropy, max_depth=4, n_estimators=300 ................\n",
      "[CV]  criterion=entropy, max_depth=4, n_estimators=300, score=0.754, total=   1.0s\n",
      "[CV] criterion=entropy, max_depth=4, n_estimators=300 ................\n",
      "[CV]  criterion=entropy, max_depth=4, n_estimators=300, score=0.754, total=   0.9s\n",
      "[CV] criterion=entropy, max_depth=4, n_estimators=500 ................\n",
      "[CV]  criterion=entropy, max_depth=4, n_estimators=500, score=0.752, total=   1.6s\n",
      "[CV] criterion=entropy, max_depth=4, n_estimators=500 ................\n",
      "[CV]  criterion=entropy, max_depth=4, n_estimators=500, score=0.755, total=   1.6s\n",
      "[CV] criterion=entropy, max_depth=4, n_estimators=500 ................\n",
      "[CV]  criterion=entropy, max_depth=4, n_estimators=500, score=0.754, total=   1.6s\n",
      "[CV] criterion=entropy, max_depth=4, n_estimators=800 ................\n",
      "[CV]  criterion=entropy, max_depth=4, n_estimators=800, score=0.752, total=   2.5s\n",
      "[CV] criterion=entropy, max_depth=4, n_estimators=800 ................\n",
      "[CV]  criterion=entropy, max_depth=4, n_estimators=800, score=0.755, total=   2.5s\n",
      "[CV] criterion=entropy, max_depth=4, n_estimators=800 ................\n",
      "[CV]  criterion=entropy, max_depth=4, n_estimators=800, score=0.752, total=   2.5s\n",
      "[CV] criterion=entropy, max_depth=5, n_estimators=10 .................\n",
      "[CV]  criterion=entropy, max_depth=5, n_estimators=10, score=0.754, total=   0.0s\n",
      "[CV] criterion=entropy, max_depth=5, n_estimators=10 .................\n",
      "[CV]  criterion=entropy, max_depth=5, n_estimators=10, score=0.762, total=   0.0s\n",
      "[CV] criterion=entropy, max_depth=5, n_estimators=10 .................\n",
      "[CV]  criterion=entropy, max_depth=5, n_estimators=10, score=0.755, total=   0.0s\n",
      "[CV] criterion=entropy, max_depth=5, n_estimators=50 .................\n",
      "[CV]  criterion=entropy, max_depth=5, n_estimators=50, score=0.756, total=   0.2s\n",
      "[CV] criterion=entropy, max_depth=5, n_estimators=50 .................\n",
      "[CV]  criterion=entropy, max_depth=5, n_estimators=50, score=0.761, total=   0.2s\n",
      "[CV] criterion=entropy, max_depth=5, n_estimators=50 .................\n",
      "[CV]  criterion=entropy, max_depth=5, n_estimators=50, score=0.756, total=   0.2s\n",
      "[CV] criterion=entropy, max_depth=5, n_estimators=100 ................\n",
      "[CV]  criterion=entropy, max_depth=5, n_estimators=100, score=0.758, total=   0.4s\n",
      "[CV] criterion=entropy, max_depth=5, n_estimators=100 ................\n",
      "[CV]  criterion=entropy, max_depth=5, n_estimators=100, score=0.762, total=   0.4s\n",
      "[CV] criterion=entropy, max_depth=5, n_estimators=100 ................\n",
      "[CV]  criterion=entropy, max_depth=5, n_estimators=100, score=0.758, total=   0.4s\n",
      "[CV] criterion=entropy, max_depth=5, n_estimators=200 ................\n",
      "[CV]  criterion=entropy, max_depth=5, n_estimators=200, score=0.755, total=   0.9s\n",
      "[CV] criterion=entropy, max_depth=5, n_estimators=200 ................\n",
      "[CV]  criterion=entropy, max_depth=5, n_estimators=200, score=0.759, total=   0.8s\n",
      "[CV] criterion=entropy, max_depth=5, n_estimators=200 ................\n",
      "[CV]  criterion=entropy, max_depth=5, n_estimators=200, score=0.758, total=   0.8s\n",
      "[CV] criterion=entropy, max_depth=5, n_estimators=300 ................\n",
      "[CV]  criterion=entropy, max_depth=5, n_estimators=300, score=0.754, total=   1.1s\n",
      "[CV] criterion=entropy, max_depth=5, n_estimators=300 ................\n",
      "[CV]  criterion=entropy, max_depth=5, n_estimators=300, score=0.759, total=   1.2s\n",
      "[CV] criterion=entropy, max_depth=5, n_estimators=300 ................\n",
      "[CV]  criterion=entropy, max_depth=5, n_estimators=300, score=0.758, total=   1.2s\n",
      "[CV] criterion=entropy, max_depth=5, n_estimators=500 ................\n",
      "[CV]  criterion=entropy, max_depth=5, n_estimators=500, score=0.755, total=   1.8s\n",
      "[CV] criterion=entropy, max_depth=5, n_estimators=500 ................\n",
      "[CV]  criterion=entropy, max_depth=5, n_estimators=500, score=0.760, total=   1.9s\n",
      "[CV] criterion=entropy, max_depth=5, n_estimators=500 ................\n",
      "[CV]  criterion=entropy, max_depth=5, n_estimators=500, score=0.758, total=   1.9s\n",
      "[CV] criterion=entropy, max_depth=5, n_estimators=800 ................\n",
      "[CV]  criterion=entropy, max_depth=5, n_estimators=800, score=0.755, total=   2.9s\n",
      "[CV] criterion=entropy, max_depth=5, n_estimators=800 ................\n",
      "[CV]  criterion=entropy, max_depth=5, n_estimators=800, score=0.759, total=   3.0s\n",
      "[CV] criterion=entropy, max_depth=5, n_estimators=800 ................\n",
      "[CV]  criterion=entropy, max_depth=5, n_estimators=800, score=0.759, total=   3.0s\n",
      "[CV] criterion=entropy, max_depth=6, n_estimators=10 .................\n",
      "[CV]  criterion=entropy, max_depth=6, n_estimators=10, score=0.764, total=   0.0s\n",
      "[CV] criterion=entropy, max_depth=6, n_estimators=10 .................\n",
      "[CV]  criterion=entropy, max_depth=6, n_estimators=10, score=0.760, total=   0.0s\n",
      "[CV] criterion=entropy, max_depth=6, n_estimators=10 .................\n",
      "[CV]  criterion=entropy, max_depth=6, n_estimators=10, score=0.764, total=   0.0s\n",
      "[CV] criterion=entropy, max_depth=6, n_estimators=50 .................\n",
      "[CV]  criterion=entropy, max_depth=6, n_estimators=50, score=0.763, total=   0.2s\n",
      "[CV] criterion=entropy, max_depth=6, n_estimators=50 .................\n",
      "[CV]  criterion=entropy, max_depth=6, n_estimators=50, score=0.765, total=   0.3s\n",
      "[CV] criterion=entropy, max_depth=6, n_estimators=50 .................\n",
      "[CV]  criterion=entropy, max_depth=6, n_estimators=50, score=0.769, total=   0.2s\n",
      "[CV] criterion=entropy, max_depth=6, n_estimators=100 ................\n",
      "[CV]  criterion=entropy, max_depth=6, n_estimators=100, score=0.760, total=   0.5s\n",
      "[CV] criterion=entropy, max_depth=6, n_estimators=100 ................\n",
      "[CV]  criterion=entropy, max_depth=6, n_estimators=100, score=0.764, total=   0.5s\n",
      "[CV] criterion=entropy, max_depth=6, n_estimators=100 ................\n",
      "[CV]  criterion=entropy, max_depth=6, n_estimators=100, score=0.766, total=   0.4s\n",
      "[CV] criterion=entropy, max_depth=6, n_estimators=200 ................\n",
      "[CV]  criterion=entropy, max_depth=6, n_estimators=200, score=0.760, total=   0.9s\n",
      "[CV] criterion=entropy, max_depth=6, n_estimators=200 ................\n",
      "[CV]  criterion=entropy, max_depth=6, n_estimators=200, score=0.760, total=   0.9s\n",
      "[CV] criterion=entropy, max_depth=6, n_estimators=200 ................\n"
     ]
    },
    {
     "name": "stdout",
     "output_type": "stream",
     "text": [
      "[CV]  criterion=entropy, max_depth=6, n_estimators=200, score=0.765, total=   0.9s\n",
      "[CV] criterion=entropy, max_depth=6, n_estimators=300 ................\n",
      "[CV]  criterion=entropy, max_depth=6, n_estimators=300, score=0.761, total=   1.3s\n",
      "[CV] criterion=entropy, max_depth=6, n_estimators=300 ................\n",
      "[CV]  criterion=entropy, max_depth=6, n_estimators=300, score=0.762, total=   1.3s\n",
      "[CV] criterion=entropy, max_depth=6, n_estimators=300 ................\n",
      "[CV]  criterion=entropy, max_depth=6, n_estimators=300, score=0.765, total=   1.3s\n",
      "[CV] criterion=entropy, max_depth=6, n_estimators=500 ................\n",
      "[CV]  criterion=entropy, max_depth=6, n_estimators=500, score=0.759, total=   2.2s\n",
      "[CV] criterion=entropy, max_depth=6, n_estimators=500 ................\n",
      "[CV]  criterion=entropy, max_depth=6, n_estimators=500, score=0.763, total=   2.2s\n",
      "[CV] criterion=entropy, max_depth=6, n_estimators=500 ................\n",
      "[CV]  criterion=entropy, max_depth=6, n_estimators=500, score=0.763, total=   2.2s\n",
      "[CV] criterion=entropy, max_depth=6, n_estimators=800 ................\n",
      "[CV]  criterion=entropy, max_depth=6, n_estimators=800, score=0.761, total=   3.6s\n",
      "[CV] criterion=entropy, max_depth=6, n_estimators=800 ................\n",
      "[CV]  criterion=entropy, max_depth=6, n_estimators=800, score=0.763, total=   3.6s\n",
      "[CV] criterion=entropy, max_depth=6, n_estimators=800 ................\n",
      "[CV]  criterion=entropy, max_depth=6, n_estimators=800, score=0.764, total=   3.6s\n",
      "[CV] criterion=entropy, max_depth=7, n_estimators=10 .................\n",
      "[CV]  criterion=entropy, max_depth=7, n_estimators=10, score=0.765, total=   0.1s\n",
      "[CV] criterion=entropy, max_depth=7, n_estimators=10 .................\n",
      "[CV]  criterion=entropy, max_depth=7, n_estimators=10, score=0.769, total=   0.1s\n",
      "[CV] criterion=entropy, max_depth=7, n_estimators=10 .................\n",
      "[CV]  criterion=entropy, max_depth=7, n_estimators=10, score=0.765, total=   0.1s\n",
      "[CV] criterion=entropy, max_depth=7, n_estimators=50 .................\n",
      "[CV]  criterion=entropy, max_depth=7, n_estimators=50, score=0.765, total=   0.3s\n",
      "[CV] criterion=entropy, max_depth=7, n_estimators=50 .................\n",
      "[CV]  criterion=entropy, max_depth=7, n_estimators=50, score=0.765, total=   0.3s\n",
      "[CV] criterion=entropy, max_depth=7, n_estimators=50 .................\n",
      "[CV]  criterion=entropy, max_depth=7, n_estimators=50, score=0.771, total=   0.3s\n",
      "[CV] criterion=entropy, max_depth=7, n_estimators=100 ................\n",
      "[CV]  criterion=entropy, max_depth=7, n_estimators=100, score=0.767, total=   0.5s\n",
      "[CV] criterion=entropy, max_depth=7, n_estimators=100 ................\n",
      "[CV]  criterion=entropy, max_depth=7, n_estimators=100, score=0.766, total=   0.6s\n",
      "[CV] criterion=entropy, max_depth=7, n_estimators=100 ................\n",
      "[CV]  criterion=entropy, max_depth=7, n_estimators=100, score=0.772, total=   0.5s\n",
      "[CV] criterion=entropy, max_depth=7, n_estimators=200 ................\n",
      "[CV]  criterion=entropy, max_depth=7, n_estimators=200, score=0.767, total=   1.1s\n",
      "[CV] criterion=entropy, max_depth=7, n_estimators=200 ................\n",
      "[CV]  criterion=entropy, max_depth=7, n_estimators=200, score=0.765, total=   1.0s\n",
      "[CV] criterion=entropy, max_depth=7, n_estimators=200 ................\n",
      "[CV]  criterion=entropy, max_depth=7, n_estimators=200, score=0.769, total=   1.0s\n",
      "[CV] criterion=entropy, max_depth=7, n_estimators=300 ................\n",
      "[CV]  criterion=entropy, max_depth=7, n_estimators=300, score=0.765, total=   1.6s\n",
      "[CV] criterion=entropy, max_depth=7, n_estimators=300 ................\n",
      "[CV]  criterion=entropy, max_depth=7, n_estimators=300, score=0.765, total=   1.6s\n",
      "[CV] criterion=entropy, max_depth=7, n_estimators=300 ................\n",
      "[CV]  criterion=entropy, max_depth=7, n_estimators=300, score=0.772, total=   1.7s\n",
      "[CV] criterion=entropy, max_depth=7, n_estimators=500 ................\n",
      "[CV]  criterion=entropy, max_depth=7, n_estimators=500, score=0.767, total=   2.6s\n",
      "[CV] criterion=entropy, max_depth=7, n_estimators=500 ................\n",
      "[CV]  criterion=entropy, max_depth=7, n_estimators=500, score=0.765, total=   2.7s\n",
      "[CV] criterion=entropy, max_depth=7, n_estimators=500 ................\n",
      "[CV]  criterion=entropy, max_depth=7, n_estimators=500, score=0.772, total=   2.6s\n",
      "[CV] criterion=entropy, max_depth=7, n_estimators=800 ................\n",
      "[CV]  criterion=entropy, max_depth=7, n_estimators=800, score=0.767, total=   5.9s\n",
      "[CV] criterion=entropy, max_depth=7, n_estimators=800 ................\n",
      "[CV]  criterion=entropy, max_depth=7, n_estimators=800, score=0.765, total=   5.3s\n",
      "[CV] criterion=entropy, max_depth=7, n_estimators=800 ................\n",
      "[CV]  criterion=entropy, max_depth=7, n_estimators=800, score=0.771, total=   4.9s\n",
      "[CV] criterion=entropy, max_depth=8, n_estimators=10 .................\n",
      "[CV]  criterion=entropy, max_depth=8, n_estimators=10, score=0.769, total=   0.1s\n",
      "[CV] criterion=entropy, max_depth=8, n_estimators=10 .................\n",
      "[CV]  criterion=entropy, max_depth=8, n_estimators=10, score=0.770, total=   0.1s\n",
      "[CV] criterion=entropy, max_depth=8, n_estimators=10 .................\n",
      "[CV]  criterion=entropy, max_depth=8, n_estimators=10, score=0.769, total=   0.0s\n",
      "[CV] criterion=entropy, max_depth=8, n_estimators=50 .................\n",
      "[CV]  criterion=entropy, max_depth=8, n_estimators=50, score=0.774, total=   0.3s\n",
      "[CV] criterion=entropy, max_depth=8, n_estimators=50 .................\n",
      "[CV]  criterion=entropy, max_depth=8, n_estimators=50, score=0.771, total=   0.3s\n",
      "[CV] criterion=entropy, max_depth=8, n_estimators=50 .................\n",
      "[CV]  criterion=entropy, max_depth=8, n_estimators=50, score=0.775, total=   0.3s\n",
      "[CV] criterion=entropy, max_depth=8, n_estimators=100 ................\n",
      "[CV]  criterion=entropy, max_depth=8, n_estimators=100, score=0.775, total=   0.6s\n",
      "[CV] criterion=entropy, max_depth=8, n_estimators=100 ................\n",
      "[CV]  criterion=entropy, max_depth=8, n_estimators=100, score=0.769, total=   0.6s\n",
      "[CV] criterion=entropy, max_depth=8, n_estimators=100 ................\n",
      "[CV]  criterion=entropy, max_depth=8, n_estimators=100, score=0.776, total=   0.6s\n",
      "[CV] criterion=entropy, max_depth=8, n_estimators=200 ................\n",
      "[CV]  criterion=entropy, max_depth=8, n_estimators=200, score=0.772, total=   1.2s\n",
      "[CV] criterion=entropy, max_depth=8, n_estimators=200 ................\n",
      "[CV]  criterion=entropy, max_depth=8, n_estimators=200, score=0.772, total=   1.2s\n",
      "[CV] criterion=entropy, max_depth=8, n_estimators=200 ................\n",
      "[CV]  criterion=entropy, max_depth=8, n_estimators=200, score=0.779, total=   1.2s\n",
      "[CV] criterion=entropy, max_depth=8, n_estimators=300 ................\n",
      "[CV]  criterion=entropy, max_depth=8, n_estimators=300, score=0.773, total=   1.7s\n",
      "[CV] criterion=entropy, max_depth=8, n_estimators=300 ................\n",
      "[CV]  criterion=entropy, max_depth=8, n_estimators=300, score=0.770, total=   1.9s\n",
      "[CV] criterion=entropy, max_depth=8, n_estimators=300 ................\n",
      "[CV]  criterion=entropy, max_depth=8, n_estimators=300, score=0.779, total=   1.8s\n",
      "[CV] criterion=entropy, max_depth=8, n_estimators=500 ................\n",
      "[CV]  criterion=entropy, max_depth=8, n_estimators=500, score=0.772, total=   2.9s\n",
      "[CV] criterion=entropy, max_depth=8, n_estimators=500 ................\n",
      "[CV]  criterion=entropy, max_depth=8, n_estimators=500, score=0.773, total=   3.0s\n",
      "[CV] criterion=entropy, max_depth=8, n_estimators=500 ................\n",
      "[CV]  criterion=entropy, max_depth=8, n_estimators=500, score=0.781, total=   3.0s\n",
      "[CV] criterion=entropy, max_depth=8, n_estimators=800 ................\n",
      "[CV]  criterion=entropy, max_depth=8, n_estimators=800, score=0.772, total=   4.7s\n",
      "[CV] criterion=entropy, max_depth=8, n_estimators=800 ................\n",
      "[CV]  criterion=entropy, max_depth=8, n_estimators=800, score=0.772, total=   4.8s\n",
      "[CV] criterion=entropy, max_depth=8, n_estimators=800 ................\n",
      "[CV]  criterion=entropy, max_depth=8, n_estimators=800, score=0.779, total=   4.9s\n",
      "[CV] criterion=gini, max_depth=4, n_estimators=10 ....................\n",
      "[CV]  criterion=gini, max_depth=4, n_estimators=10, score=0.751, total=   0.0s\n",
      "[CV] criterion=gini, max_depth=4, n_estimators=10 ....................\n",
      "[CV]  criterion=gini, max_depth=4, n_estimators=10, score=0.755, total=   0.0s\n",
      "[CV] criterion=gini, max_depth=4, n_estimators=10 ....................\n",
      "[CV]  criterion=gini, max_depth=4, n_estimators=10, score=0.754, total=   0.0s\n",
      "[CV] criterion=gini, max_depth=4, n_estimators=50 ....................\n"
     ]
    },
    {
     "name": "stdout",
     "output_type": "stream",
     "text": [
      "[CV]  criterion=gini, max_depth=4, n_estimators=50, score=0.753, total=   0.2s\n",
      "[CV] criterion=gini, max_depth=4, n_estimators=50 ....................\n",
      "[CV]  criterion=gini, max_depth=4, n_estimators=50, score=0.754, total=   0.1s\n",
      "[CV] criterion=gini, max_depth=4, n_estimators=50 ....................\n",
      "[CV]  criterion=gini, max_depth=4, n_estimators=50, score=0.753, total=   0.2s\n",
      "[CV] criterion=gini, max_depth=4, n_estimators=100 ...................\n",
      "[CV]  criterion=gini, max_depth=4, n_estimators=100, score=0.754, total=   0.3s\n",
      "[CV] criterion=gini, max_depth=4, n_estimators=100 ...................\n",
      "[CV]  criterion=gini, max_depth=4, n_estimators=100, score=0.756, total=   0.3s\n",
      "[CV] criterion=gini, max_depth=4, n_estimators=100 ...................\n",
      "[CV]  criterion=gini, max_depth=4, n_estimators=100, score=0.753, total=   0.3s\n",
      "[CV] criterion=gini, max_depth=4, n_estimators=200 ...................\n",
      "[CV]  criterion=gini, max_depth=4, n_estimators=200, score=0.753, total=   0.6s\n",
      "[CV] criterion=gini, max_depth=4, n_estimators=200 ...................\n",
      "[CV]  criterion=gini, max_depth=4, n_estimators=200, score=0.756, total=   0.6s\n",
      "[CV] criterion=gini, max_depth=4, n_estimators=200 ...................\n",
      "[CV]  criterion=gini, max_depth=4, n_estimators=200, score=0.754, total=   0.6s\n",
      "[CV] criterion=gini, max_depth=4, n_estimators=300 ...................\n",
      "[CV]  criterion=gini, max_depth=4, n_estimators=300, score=0.753, total=   0.8s\n",
      "[CV] criterion=gini, max_depth=4, n_estimators=300 ...................\n",
      "[CV]  criterion=gini, max_depth=4, n_estimators=300, score=0.756, total=   0.9s\n",
      "[CV] criterion=gini, max_depth=4, n_estimators=300 ...................\n",
      "[CV]  criterion=gini, max_depth=4, n_estimators=300, score=0.754, total=   0.9s\n",
      "[CV] criterion=gini, max_depth=4, n_estimators=500 ...................\n",
      "[CV]  criterion=gini, max_depth=4, n_estimators=500, score=0.753, total=   1.4s\n",
      "[CV] criterion=gini, max_depth=4, n_estimators=500 ...................\n",
      "[CV]  criterion=gini, max_depth=4, n_estimators=500, score=0.756, total=   1.4s\n",
      "[CV] criterion=gini, max_depth=4, n_estimators=500 ...................\n",
      "[CV]  criterion=gini, max_depth=4, n_estimators=500, score=0.753, total=   1.4s\n",
      "[CV] criterion=gini, max_depth=4, n_estimators=800 ...................\n",
      "[CV]  criterion=gini, max_depth=4, n_estimators=800, score=0.753, total=   2.3s\n",
      "[CV] criterion=gini, max_depth=4, n_estimators=800 ...................\n",
      "[CV]  criterion=gini, max_depth=4, n_estimators=800, score=0.757, total=   2.3s\n",
      "[CV] criterion=gini, max_depth=4, n_estimators=800 ...................\n",
      "[CV]  criterion=gini, max_depth=4, n_estimators=800, score=0.753, total=   2.3s\n",
      "[CV] criterion=gini, max_depth=5, n_estimators=10 ....................\n",
      "[CV]  criterion=gini, max_depth=5, n_estimators=10, score=0.753, total=   0.0s\n",
      "[CV] criterion=gini, max_depth=5, n_estimators=10 ....................\n",
      "[CV]  criterion=gini, max_depth=5, n_estimators=10, score=0.758, total=   0.0s\n",
      "[CV] criterion=gini, max_depth=5, n_estimators=10 ....................\n",
      "[CV]  criterion=gini, max_depth=5, n_estimators=10, score=0.760, total=   0.0s\n",
      "[CV] criterion=gini, max_depth=5, n_estimators=50 ....................\n",
      "[CV]  criterion=gini, max_depth=5, n_estimators=50, score=0.755, total=   0.2s\n",
      "[CV] criterion=gini, max_depth=5, n_estimators=50 ....................\n",
      "[CV]  criterion=gini, max_depth=5, n_estimators=50, score=0.763, total=   0.2s\n",
      "[CV] criterion=gini, max_depth=5, n_estimators=50 ....................\n",
      "[CV]  criterion=gini, max_depth=5, n_estimators=50, score=0.757, total=   0.2s\n",
      "[CV] criterion=gini, max_depth=5, n_estimators=100 ...................\n",
      "[CV]  criterion=gini, max_depth=5, n_estimators=100, score=0.758, total=   0.3s\n",
      "[CV] criterion=gini, max_depth=5, n_estimators=100 ...................\n",
      "[CV]  criterion=gini, max_depth=5, n_estimators=100, score=0.765, total=   0.4s\n",
      "[CV] criterion=gini, max_depth=5, n_estimators=100 ...................\n",
      "[CV]  criterion=gini, max_depth=5, n_estimators=100, score=0.760, total=   0.3s\n",
      "[CV] criterion=gini, max_depth=5, n_estimators=200 ...................\n",
      "[CV]  criterion=gini, max_depth=5, n_estimators=200, score=0.758, total=   0.7s\n",
      "[CV] criterion=gini, max_depth=5, n_estimators=200 ...................\n",
      "[CV]  criterion=gini, max_depth=5, n_estimators=200, score=0.761, total=   0.7s\n",
      "[CV] criterion=gini, max_depth=5, n_estimators=200 ...................\n",
      "[CV]  criterion=gini, max_depth=5, n_estimators=200, score=0.759, total=   0.7s\n",
      "[CV] criterion=gini, max_depth=5, n_estimators=300 ...................\n",
      "[CV]  criterion=gini, max_depth=5, n_estimators=300, score=0.757, total=   1.1s\n",
      "[CV] criterion=gini, max_depth=5, n_estimators=300 ...................\n",
      "[CV]  criterion=gini, max_depth=5, n_estimators=300, score=0.760, total=   1.0s\n",
      "[CV] criterion=gini, max_depth=5, n_estimators=300 ...................\n",
      "[CV]  criterion=gini, max_depth=5, n_estimators=300, score=0.759, total=   1.0s\n",
      "[CV] criterion=gini, max_depth=5, n_estimators=500 ...................\n",
      "[CV]  criterion=gini, max_depth=5, n_estimators=500, score=0.757, total=   1.7s\n",
      "[CV] criterion=gini, max_depth=5, n_estimators=500 ...................\n",
      "[CV]  criterion=gini, max_depth=5, n_estimators=500, score=0.762, total=   1.7s\n",
      "[CV] criterion=gini, max_depth=5, n_estimators=500 ...................\n",
      "[CV]  criterion=gini, max_depth=5, n_estimators=500, score=0.760, total=   1.6s\n",
      "[CV] criterion=gini, max_depth=5, n_estimators=800 ...................\n",
      "[CV]  criterion=gini, max_depth=5, n_estimators=800, score=0.757, total=   2.9s\n",
      "[CV] criterion=gini, max_depth=5, n_estimators=800 ...................\n",
      "[CV]  criterion=gini, max_depth=5, n_estimators=800, score=0.763, total=   3.6s\n",
      "[CV] criterion=gini, max_depth=5, n_estimators=800 ...................\n",
      "[CV]  criterion=gini, max_depth=5, n_estimators=800, score=0.761, total=   3.3s\n",
      "[CV] criterion=gini, max_depth=6, n_estimators=10 ....................\n",
      "[CV]  criterion=gini, max_depth=6, n_estimators=10, score=0.761, total=   0.0s\n",
      "[CV] criterion=gini, max_depth=6, n_estimators=10 ....................\n",
      "[CV]  criterion=gini, max_depth=6, n_estimators=10, score=0.761, total=   0.0s\n",
      "[CV] criterion=gini, max_depth=6, n_estimators=10 ....................\n",
      "[CV]  criterion=gini, max_depth=6, n_estimators=10, score=0.761, total=   0.0s\n",
      "[CV] criterion=gini, max_depth=6, n_estimators=50 ....................\n",
      "[CV]  criterion=gini, max_depth=6, n_estimators=50, score=0.760, total=   0.2s\n",
      "[CV] criterion=gini, max_depth=6, n_estimators=50 ....................\n",
      "[CV]  criterion=gini, max_depth=6, n_estimators=50, score=0.767, total=   0.2s\n",
      "[CV] criterion=gini, max_depth=6, n_estimators=50 ....................\n",
      "[CV]  criterion=gini, max_depth=6, n_estimators=50, score=0.762, total=   0.2s\n",
      "[CV] criterion=gini, max_depth=6, n_estimators=100 ...................\n",
      "[CV]  criterion=gini, max_depth=6, n_estimators=100, score=0.763, total=   0.5s\n",
      "[CV] criterion=gini, max_depth=6, n_estimators=100 ...................\n",
      "[CV]  criterion=gini, max_depth=6, n_estimators=100, score=0.766, total=   0.4s\n",
      "[CV] criterion=gini, max_depth=6, n_estimators=100 ...................\n",
      "[CV]  criterion=gini, max_depth=6, n_estimators=100, score=0.763, total=   0.5s\n",
      "[CV] criterion=gini, max_depth=6, n_estimators=200 ...................\n",
      "[CV]  criterion=gini, max_depth=6, n_estimators=200, score=0.764, total=   0.9s\n",
      "[CV] criterion=gini, max_depth=6, n_estimators=200 ...................\n",
      "[CV]  criterion=gini, max_depth=6, n_estimators=200, score=0.765, total=   0.9s\n",
      "[CV] criterion=gini, max_depth=6, n_estimators=200 ...................\n",
      "[CV]  criterion=gini, max_depth=6, n_estimators=200, score=0.765, total=   0.9s\n",
      "[CV] criterion=gini, max_depth=6, n_estimators=300 ...................\n",
      "[CV]  criterion=gini, max_depth=6, n_estimators=300, score=0.765, total=   1.4s\n",
      "[CV] criterion=gini, max_depth=6, n_estimators=300 ...................\n",
      "[CV]  criterion=gini, max_depth=6, n_estimators=300, score=0.764, total=   1.3s\n",
      "[CV] criterion=gini, max_depth=6, n_estimators=300 ...................\n",
      "[CV]  criterion=gini, max_depth=6, n_estimators=300, score=0.763, total=   1.2s\n",
      "[CV] criterion=gini, max_depth=6, n_estimators=500 ...................\n",
      "[CV]  criterion=gini, max_depth=6, n_estimators=500, score=0.763, total=   2.0s\n",
      "[CV] criterion=gini, max_depth=6, n_estimators=500 ...................\n"
     ]
    },
    {
     "name": "stdout",
     "output_type": "stream",
     "text": [
      "[CV]  criterion=gini, max_depth=6, n_estimators=500, score=0.764, total=   1.9s\n",
      "[CV] criterion=gini, max_depth=6, n_estimators=500 ...................\n",
      "[CV]  criterion=gini, max_depth=6, n_estimators=500, score=0.766, total=   1.9s\n",
      "[CV] criterion=gini, max_depth=6, n_estimators=800 ...................\n",
      "[CV]  criterion=gini, max_depth=6, n_estimators=800, score=0.763, total=   3.1s\n",
      "[CV] criterion=gini, max_depth=6, n_estimators=800 ...................\n",
      "[CV]  criterion=gini, max_depth=6, n_estimators=800, score=0.765, total=   3.1s\n",
      "[CV] criterion=gini, max_depth=6, n_estimators=800 ...................\n",
      "[CV]  criterion=gini, max_depth=6, n_estimators=800, score=0.764, total=   3.1s\n",
      "[CV] criterion=gini, max_depth=7, n_estimators=10 ....................\n",
      "[CV]  criterion=gini, max_depth=7, n_estimators=10, score=0.768, total=   0.1s\n",
      "[CV] criterion=gini, max_depth=7, n_estimators=10 ....................\n",
      "[CV]  criterion=gini, max_depth=7, n_estimators=10, score=0.774, total=   0.1s\n",
      "[CV] criterion=gini, max_depth=7, n_estimators=10 ....................\n",
      "[CV]  criterion=gini, max_depth=7, n_estimators=10, score=0.772, total=   0.1s\n",
      "[CV] criterion=gini, max_depth=7, n_estimators=50 ....................\n",
      "[CV]  criterion=gini, max_depth=7, n_estimators=50, score=0.763, total=   0.2s\n",
      "[CV] criterion=gini, max_depth=7, n_estimators=50 ....................\n",
      "[CV]  criterion=gini, max_depth=7, n_estimators=50, score=0.770, total=   0.2s\n",
      "[CV] criterion=gini, max_depth=7, n_estimators=50 ....................\n",
      "[CV]  criterion=gini, max_depth=7, n_estimators=50, score=0.773, total=   0.2s\n",
      "[CV] criterion=gini, max_depth=7, n_estimators=100 ...................\n",
      "[CV]  criterion=gini, max_depth=7, n_estimators=100, score=0.767, total=   0.5s\n",
      "[CV] criterion=gini, max_depth=7, n_estimators=100 ...................\n",
      "[CV]  criterion=gini, max_depth=7, n_estimators=100, score=0.773, total=   0.4s\n",
      "[CV] criterion=gini, max_depth=7, n_estimators=100 ...................\n",
      "[CV]  criterion=gini, max_depth=7, n_estimators=100, score=0.772, total=   0.5s\n",
      "[CV] criterion=gini, max_depth=7, n_estimators=200 ...................\n",
      "[CV]  criterion=gini, max_depth=7, n_estimators=200, score=0.767, total=   1.4s\n",
      "[CV] criterion=gini, max_depth=7, n_estimators=200 ...................\n",
      "[CV]  criterion=gini, max_depth=7, n_estimators=200, score=0.766, total=   1.0s\n",
      "[CV] criterion=gini, max_depth=7, n_estimators=200 ...................\n",
      "[CV]  criterion=gini, max_depth=7, n_estimators=200, score=0.773, total=   1.0s\n",
      "[CV] criterion=gini, max_depth=7, n_estimators=300 ...................\n",
      "[CV]  criterion=gini, max_depth=7, n_estimators=300, score=0.768, total=   1.3s\n",
      "[CV] criterion=gini, max_depth=7, n_estimators=300 ...................\n",
      "[CV]  criterion=gini, max_depth=7, n_estimators=300, score=0.767, total=   1.3s\n",
      "[CV] criterion=gini, max_depth=7, n_estimators=300 ...................\n",
      "[CV]  criterion=gini, max_depth=7, n_estimators=300, score=0.772, total=   1.3s\n",
      "[CV] criterion=gini, max_depth=7, n_estimators=500 ...................\n",
      "[CV]  criterion=gini, max_depth=7, n_estimators=500, score=0.769, total=   2.1s\n",
      "[CV] criterion=gini, max_depth=7, n_estimators=500 ...................\n",
      "[CV]  criterion=gini, max_depth=7, n_estimators=500, score=0.770, total=   2.1s\n",
      "[CV] criterion=gini, max_depth=7, n_estimators=500 ...................\n",
      "[CV]  criterion=gini, max_depth=7, n_estimators=500, score=0.773, total=   2.1s\n",
      "[CV] criterion=gini, max_depth=7, n_estimators=800 ...................\n",
      "[CV]  criterion=gini, max_depth=7, n_estimators=800, score=0.768, total=   3.4s\n",
      "[CV] criterion=gini, max_depth=7, n_estimators=800 ...................\n",
      "[CV]  criterion=gini, max_depth=7, n_estimators=800, score=0.767, total=   3.3s\n",
      "[CV] criterion=gini, max_depth=7, n_estimators=800 ...................\n",
      "[CV]  criterion=gini, max_depth=7, n_estimators=800, score=0.774, total=   3.4s\n",
      "[CV] criterion=gini, max_depth=8, n_estimators=10 ....................\n",
      "[CV]  criterion=gini, max_depth=8, n_estimators=10, score=0.770, total=   0.0s\n",
      "[CV] criterion=gini, max_depth=8, n_estimators=10 ....................\n",
      "[CV]  criterion=gini, max_depth=8, n_estimators=10, score=0.766, total=   0.1s\n",
      "[CV] criterion=gini, max_depth=8, n_estimators=10 ....................\n",
      "[CV]  criterion=gini, max_depth=8, n_estimators=10, score=0.786, total=   0.0s\n",
      "[CV] criterion=gini, max_depth=8, n_estimators=50 ....................\n",
      "[CV]  criterion=gini, max_depth=8, n_estimators=50, score=0.771, total=   0.3s\n",
      "[CV] criterion=gini, max_depth=8, n_estimators=50 ....................\n",
      "[CV]  criterion=gini, max_depth=8, n_estimators=50, score=0.765, total=   0.2s\n",
      "[CV] criterion=gini, max_depth=8, n_estimators=50 ....................\n",
      "[CV]  criterion=gini, max_depth=8, n_estimators=50, score=0.779, total=   0.2s\n",
      "[CV] criterion=gini, max_depth=8, n_estimators=100 ...................\n",
      "[CV]  criterion=gini, max_depth=8, n_estimators=100, score=0.775, total=   0.5s\n",
      "[CV] criterion=gini, max_depth=8, n_estimators=100 ...................\n",
      "[CV]  criterion=gini, max_depth=8, n_estimators=100, score=0.770, total=   0.5s\n",
      "[CV] criterion=gini, max_depth=8, n_estimators=100 ...................\n",
      "[CV]  criterion=gini, max_depth=8, n_estimators=100, score=0.782, total=   0.5s\n",
      "[CV] criterion=gini, max_depth=8, n_estimators=200 ...................\n",
      "[CV]  criterion=gini, max_depth=8, n_estimators=200, score=0.773, total=   0.9s\n",
      "[CV] criterion=gini, max_depth=8, n_estimators=200 ...................\n",
      "[CV]  criterion=gini, max_depth=8, n_estimators=200, score=0.771, total=   1.0s\n",
      "[CV] criterion=gini, max_depth=8, n_estimators=200 ...................\n",
      "[CV]  criterion=gini, max_depth=8, n_estimators=200, score=0.783, total=   0.9s\n",
      "[CV] criterion=gini, max_depth=8, n_estimators=300 ...................\n",
      "[CV]  criterion=gini, max_depth=8, n_estimators=300, score=0.773, total=   1.4s\n",
      "[CV] criterion=gini, max_depth=8, n_estimators=300 ...................\n",
      "[CV]  criterion=gini, max_depth=8, n_estimators=300, score=0.775, total=   1.4s\n",
      "[CV] criterion=gini, max_depth=8, n_estimators=300 ...................\n",
      "[CV]  criterion=gini, max_depth=8, n_estimators=300, score=0.784, total=   1.4s\n",
      "[CV] criterion=gini, max_depth=8, n_estimators=500 ...................\n",
      "[CV]  criterion=gini, max_depth=8, n_estimators=500, score=0.772, total=   2.4s\n",
      "[CV] criterion=gini, max_depth=8, n_estimators=500 ...................\n",
      "[CV]  criterion=gini, max_depth=8, n_estimators=500, score=0.777, total=   2.4s\n",
      "[CV] criterion=gini, max_depth=8, n_estimators=500 ...................\n",
      "[CV]  criterion=gini, max_depth=8, n_estimators=500, score=0.781, total=   2.3s\n",
      "[CV] criterion=gini, max_depth=8, n_estimators=800 ...................\n",
      "[CV]  criterion=gini, max_depth=8, n_estimators=800, score=0.772, total=   3.8s\n",
      "[CV] criterion=gini, max_depth=8, n_estimators=800 ...................\n",
      "[CV]  criterion=gini, max_depth=8, n_estimators=800, score=0.774, total=   3.7s\n",
      "[CV] criterion=gini, max_depth=8, n_estimators=800 ...................\n",
      "[CV]  criterion=gini, max_depth=8, n_estimators=800, score=0.780, total=   3.7s\n"
     ]
    },
    {
     "name": "stderr",
     "output_type": "stream",
     "text": [
      "[Parallel(n_jobs=1)]: Done 210 out of 210 | elapsed:  4.2min finished\n"
     ]
    },
    {
     "data": {
      "text/plain": [
       "GridSearchCV(cv='warn', error_score='raise-deprecating',\n",
       "             estimator=RandomForestClassifier(bootstrap=True, class_weight=None,\n",
       "                                              criterion='gini', max_depth=None,\n",
       "                                              max_features='auto',\n",
       "                                              max_leaf_nodes=None,\n",
       "                                              min_impurity_decrease=0.0,\n",
       "                                              min_impurity_split=None,\n",
       "                                              min_samples_leaf=1,\n",
       "                                              min_samples_split=2,\n",
       "                                              min_weight_fraction_leaf=0.0,\n",
       "                                              n_estimators=10, n_jobs=None,\n",
       "                                              oob_score=False, random_state=42,\n",
       "                                              verbose=0, warm_start=False),\n",
       "             iid='warn', n_jobs=None,\n",
       "             param_grid={'criterion': ['entropy', 'gini'],\n",
       "                         'max_depth': [4, 5, 6, 7, 8],\n",
       "                         'n_estimators': [10, 50, 100, 200, 300, 500, 800]},\n",
       "             pre_dispatch='2*n_jobs', refit=True, return_train_score=False,\n",
       "             scoring=None, verbose=3)"
      ]
     },
     "execution_count": 23,
     "metadata": {},
     "output_type": "execute_result"
    }
   ],
   "source": [
    "random_grid.fit(X_train,y_train)"
   ]
  },
  {
   "cell_type": "code",
   "execution_count": 24,
   "metadata": {},
   "outputs": [
    {
     "data": {
      "text/plain": [
       "{'criterion': 'gini', 'max_depth': 8, 'n_estimators': 300}"
      ]
     },
     "execution_count": 24,
     "metadata": {},
     "output_type": "execute_result"
    }
   ],
   "source": [
    "random_grid.best_params_"
   ]
  },
  {
   "cell_type": "code",
   "execution_count": 25,
   "metadata": {},
   "outputs": [
    {
     "data": {
      "text/plain": [
       "RandomForestClassifier(bootstrap=True, class_weight=None, criterion='gini',\n",
       "                       max_depth=8, max_features='auto', max_leaf_nodes=None,\n",
       "                       min_impurity_decrease=0.0, min_impurity_split=None,\n",
       "                       min_samples_leaf=1, min_samples_split=2,\n",
       "                       min_weight_fraction_leaf=0.0, n_estimators=300,\n",
       "                       n_jobs=None, oob_score=False, random_state=42, verbose=0,\n",
       "                       warm_start=False)"
      ]
     },
     "execution_count": 25,
     "metadata": {},
     "output_type": "execute_result"
    }
   ],
   "source": [
    "random_grid.best_estimator_"
   ]
  },
  {
   "cell_type": "markdown",
   "metadata": {},
   "source": [
    "**Re-running predictions...**"
   ]
  },
  {
   "cell_type": "code",
   "execution_count": 26,
   "metadata": {},
   "outputs": [],
   "source": [
    "random_grid_predictions = random_grid.predict(X_test)"
   ]
  },
  {
   "cell_type": "code",
   "execution_count": 27,
   "metadata": {},
   "outputs": [
    {
     "name": "stdout",
     "output_type": "stream",
     "text": [
      "[[2118   42]\n",
      " [ 591  123]]\n"
     ]
    }
   ],
   "source": [
    "print(confusion_matrix(y_test,random_grid_predictions))"
   ]
  },
  {
   "cell_type": "code",
   "execution_count": 28,
   "metadata": {},
   "outputs": [
    {
     "name": "stdout",
     "output_type": "stream",
     "text": [
      "              precision    recall  f1-score   support\n",
      "\n",
      "           0       0.78      0.98      0.87      2160\n",
      "           1       0.75      0.17      0.28       714\n",
      "\n",
      "    accuracy                           0.78      2874\n",
      "   macro avg       0.76      0.58      0.57      2874\n",
      "weighted avg       0.77      0.78      0.72      2874\n",
      "\n"
     ]
    }
   ],
   "source": [
    "print(classification_report(y_test,random_grid_predictions))"
   ]
  },
  {
   "cell_type": "markdown",
   "metadata": {},
   "source": [
    "***"
   ]
  },
  {
   "cell_type": "markdown",
   "metadata": {},
   "source": [
    "# Training - <font color = 'hotpink'>SVM</font>"
   ]
  },
  {
   "cell_type": "code",
   "execution_count": 30,
   "metadata": {},
   "outputs": [],
   "source": [
    "from sklearn.svm import SVC"
   ]
  },
  {
   "cell_type": "code",
   "execution_count": 31,
   "metadata": {},
   "outputs": [],
   "source": [
    "model = SVC()"
   ]
  },
  {
   "cell_type": "code",
   "execution_count": 32,
   "metadata": {},
   "outputs": [
    {
     "name": "stderr",
     "output_type": "stream",
     "text": [
      "C:\\Users\\Morgan Kaiser\\Anaconda3\\Anaconda\\New folder\\lib\\site-packages\\sklearn\\svm\\base.py:193: FutureWarning: The default value of gamma will change from 'auto' to 'scale' in version 0.22 to account better for unscaled features. Set gamma explicitly to 'auto' or 'scale' to avoid this warning.\n",
      "  \"avoid this warning.\", FutureWarning)\n"
     ]
    },
    {
     "data": {
      "text/plain": [
       "SVC(C=1.0, cache_size=200, class_weight=None, coef0=0.0,\n",
       "    decision_function_shape='ovr', degree=3, gamma='auto_deprecated',\n",
       "    kernel='rbf', max_iter=-1, probability=False, random_state=None,\n",
       "    shrinking=True, tol=0.001, verbose=False)"
      ]
     },
     "execution_count": 32,
     "metadata": {},
     "output_type": "execute_result"
    }
   ],
   "source": [
    "model.fit(X_train,y_train)"
   ]
  },
  {
   "cell_type": "markdown",
   "metadata": {},
   "source": [
    "# Predictions and Evaluation - <font color = 'hotpink'>SVM</font>"
   ]
  },
  {
   "cell_type": "code",
   "execution_count": 33,
   "metadata": {},
   "outputs": [],
   "source": [
    "predictions = model.predict(X_test)"
   ]
  },
  {
   "cell_type": "code",
   "execution_count": 34,
   "metadata": {},
   "outputs": [
    {
     "name": "stdout",
     "output_type": "stream",
     "text": [
      "[[2072   88]\n",
      " [ 588  126]]\n"
     ]
    }
   ],
   "source": [
    "print(confusion_matrix(y_test, predictions))"
   ]
  },
  {
   "cell_type": "code",
   "execution_count": 35,
   "metadata": {},
   "outputs": [
    {
     "name": "stdout",
     "output_type": "stream",
     "text": [
      "              precision    recall  f1-score   support\n",
      "\n",
      "           0       0.78      0.96      0.86      2160\n",
      "           1       0.59      0.18      0.27       714\n",
      "\n",
      "    accuracy                           0.76      2874\n",
      "   macro avg       0.68      0.57      0.57      2874\n",
      "weighted avg       0.73      0.76      0.71      2874\n",
      "\n"
     ]
    }
   ],
   "source": [
    "print(classification_report(y_test, predictions))"
   ]
  },
  {
   "cell_type": "markdown",
   "metadata": {},
   "source": [
    "# Grid Search - <font color = 'hotpink'>SVM</font>"
   ]
  },
  {
   "cell_type": "markdown",
   "metadata": {},
   "source": [
    "For svm, test the following:\n",
    "- C values: 0.1,1,10\n",
    "- gamma values: \"auto\",\"scale\",\n",
    "- kernel: \"poly\",'linear','rbf'"
   ]
  },
  {
   "cell_type": "code",
   "execution_count": 37,
   "metadata": {},
   "outputs": [],
   "source": [
    "svm_param_grid = {'C': [0.1, 1, 10], 'gamma': [\"auto\",\"scale\"], 'kernel': ['poly','linear','rbf']} "
   ]
  },
  {
   "cell_type": "code",
   "execution_count": 38,
   "metadata": {},
   "outputs": [],
   "source": [
    "svm_grid = GridSearchCV(SVC(),svm_param_grid,verbose=3)"
   ]
  },
  {
   "cell_type": "code",
   "execution_count": 39,
   "metadata": {},
   "outputs": [
    {
     "name": "stderr",
     "output_type": "stream",
     "text": [
      "C:\\Users\\Morgan Kaiser\\Anaconda3\\Anaconda\\New folder\\lib\\site-packages\\sklearn\\model_selection\\_split.py:1978: FutureWarning: The default value of cv will change from 3 to 5 in version 0.22. Specify it explicitly to silence this warning.\n",
      "  warnings.warn(CV_WARNING, FutureWarning)\n",
      "[Parallel(n_jobs=1)]: Using backend SequentialBackend with 1 concurrent workers.\n"
     ]
    },
    {
     "name": "stdout",
     "output_type": "stream",
     "text": [
      "Fitting 3 folds for each of 18 candidates, totalling 54 fits\n",
      "[CV] C=0.1, gamma=auto, kernel=poly ..................................\n",
      "[CV] ...... C=0.1, gamma=auto, kernel=poly, score=0.755, total=   0.6s\n",
      "[CV] C=0.1, gamma=auto, kernel=poly ..................................\n"
     ]
    },
    {
     "name": "stderr",
     "output_type": "stream",
     "text": [
      "[Parallel(n_jobs=1)]: Done   1 out of   1 | elapsed:    0.5s remaining:    0.0s\n"
     ]
    },
    {
     "name": "stdout",
     "output_type": "stream",
     "text": [
      "[CV] ...... C=0.1, gamma=auto, kernel=poly, score=0.760, total=   0.6s\n",
      "[CV] C=0.1, gamma=auto, kernel=poly ..................................\n"
     ]
    },
    {
     "name": "stderr",
     "output_type": "stream",
     "text": [
      "[Parallel(n_jobs=1)]: Done   2 out of   2 | elapsed:    1.1s remaining:    0.0s\n"
     ]
    },
    {
     "name": "stdout",
     "output_type": "stream",
     "text": [
      "[CV] ...... C=0.1, gamma=auto, kernel=poly, score=0.756, total=   0.6s\n",
      "[CV] C=0.1, gamma=auto, kernel=linear ................................\n",
      "[CV] .... C=0.1, gamma=auto, kernel=linear, score=0.751, total=   0.4s\n",
      "[CV] C=0.1, gamma=auto, kernel=linear ................................\n",
      "[CV] .... C=0.1, gamma=auto, kernel=linear, score=0.752, total=   0.4s\n",
      "[CV] C=0.1, gamma=auto, kernel=linear ................................\n",
      "[CV] .... C=0.1, gamma=auto, kernel=linear, score=0.752, total=   0.4s\n",
      "[CV] C=0.1, gamma=auto, kernel=rbf ...................................\n",
      "[CV] ....... C=0.1, gamma=auto, kernel=rbf, score=0.751, total=   0.8s\n",
      "[CV] C=0.1, gamma=auto, kernel=rbf ...................................\n",
      "[CV] ....... C=0.1, gamma=auto, kernel=rbf, score=0.752, total=   1.4s\n",
      "[CV] C=0.1, gamma=auto, kernel=rbf ...................................\n",
      "[CV] ....... C=0.1, gamma=auto, kernel=rbf, score=0.752, total=   0.9s\n",
      "[CV] C=0.1, gamma=scale, kernel=poly .................................\n",
      "[CV] ..... C=0.1, gamma=scale, kernel=poly, score=0.755, total=   0.5s\n",
      "[CV] C=0.1, gamma=scale, kernel=poly .................................\n",
      "[CV] ..... C=0.1, gamma=scale, kernel=poly, score=0.761, total=   0.6s\n",
      "[CV] C=0.1, gamma=scale, kernel=poly .................................\n",
      "[CV] ..... C=0.1, gamma=scale, kernel=poly, score=0.756, total=   0.6s\n",
      "[CV] C=0.1, gamma=scale, kernel=linear ...............................\n",
      "[CV] ... C=0.1, gamma=scale, kernel=linear, score=0.751, total=   0.4s\n",
      "[CV] C=0.1, gamma=scale, kernel=linear ...............................\n",
      "[CV] ... C=0.1, gamma=scale, kernel=linear, score=0.752, total=   0.4s\n",
      "[CV] C=0.1, gamma=scale, kernel=linear ...............................\n",
      "[CV] ... C=0.1, gamma=scale, kernel=linear, score=0.752, total=   0.3s\n",
      "[CV] C=0.1, gamma=scale, kernel=rbf ..................................\n",
      "[CV] ...... C=0.1, gamma=scale, kernel=rbf, score=0.751, total=   0.8s\n",
      "[CV] C=0.1, gamma=scale, kernel=rbf ..................................\n",
      "[CV] ...... C=0.1, gamma=scale, kernel=rbf, score=0.752, total=   0.7s\n",
      "[CV] C=0.1, gamma=scale, kernel=rbf ..................................\n",
      "[CV] ...... C=0.1, gamma=scale, kernel=rbf, score=0.752, total=   0.8s\n",
      "[CV] C=1, gamma=auto, kernel=poly ....................................\n",
      "[CV] ........ C=1, gamma=auto, kernel=poly, score=0.761, total=   0.7s\n",
      "[CV] C=1, gamma=auto, kernel=poly ....................................\n",
      "[CV] ........ C=1, gamma=auto, kernel=poly, score=0.756, total=   0.7s\n",
      "[CV] C=1, gamma=auto, kernel=poly ....................................\n",
      "[CV] ........ C=1, gamma=auto, kernel=poly, score=0.763, total=   0.7s\n",
      "[CV] C=1, gamma=auto, kernel=linear ..................................\n",
      "[CV] ...... C=1, gamma=auto, kernel=linear, score=0.751, total=   0.7s\n",
      "[CV] C=1, gamma=auto, kernel=linear ..................................\n",
      "[CV] ...... C=1, gamma=auto, kernel=linear, score=0.752, total=   0.7s\n",
      "[CV] C=1, gamma=auto, kernel=linear ..................................\n",
      "[CV] ...... C=1, gamma=auto, kernel=linear, score=0.752, total=   0.7s\n",
      "[CV] C=1, gamma=auto, kernel=rbf .....................................\n",
      "[CV] ......... C=1, gamma=auto, kernel=rbf, score=0.768, total=   0.8s\n",
      "[CV] C=1, gamma=auto, kernel=rbf .....................................\n",
      "[CV] ......... C=1, gamma=auto, kernel=rbf, score=0.765, total=   0.8s\n",
      "[CV] C=1, gamma=auto, kernel=rbf .....................................\n",
      "[CV] ......... C=1, gamma=auto, kernel=rbf, score=0.764, total=   0.9s\n",
      "[CV] C=1, gamma=scale, kernel=poly ...................................\n",
      "[CV] ....... C=1, gamma=scale, kernel=poly, score=0.761, total=   0.7s\n",
      "[CV] C=1, gamma=scale, kernel=poly ...................................\n",
      "[CV] ....... C=1, gamma=scale, kernel=poly, score=0.756, total=   0.7s\n",
      "[CV] C=1, gamma=scale, kernel=poly ...................................\n",
      "[CV] ....... C=1, gamma=scale, kernel=poly, score=0.763, total=   0.7s\n",
      "[CV] C=1, gamma=scale, kernel=linear .................................\n",
      "[CV] ..... C=1, gamma=scale, kernel=linear, score=0.751, total=   0.7s\n",
      "[CV] C=1, gamma=scale, kernel=linear .................................\n",
      "[CV] ..... C=1, gamma=scale, kernel=linear, score=0.752, total=   0.7s\n",
      "[CV] C=1, gamma=scale, kernel=linear .................................\n",
      "[CV] ..... C=1, gamma=scale, kernel=linear, score=0.752, total=   0.7s\n",
      "[CV] C=1, gamma=scale, kernel=rbf ....................................\n",
      "[CV] ........ C=1, gamma=scale, kernel=rbf, score=0.768, total=   0.8s\n",
      "[CV] C=1, gamma=scale, kernel=rbf ....................................\n",
      "[CV] ........ C=1, gamma=scale, kernel=rbf, score=0.765, total=   0.8s\n",
      "[CV] C=1, gamma=scale, kernel=rbf ....................................\n",
      "[CV] ........ C=1, gamma=scale, kernel=rbf, score=0.764, total=   0.8s\n",
      "[CV] C=10, gamma=auto, kernel=poly ...................................\n",
      "[CV] ....... C=10, gamma=auto, kernel=poly, score=0.750, total=   1.9s\n",
      "[CV] C=10, gamma=auto, kernel=poly ...................................\n",
      "[CV] ....... C=10, gamma=auto, kernel=poly, score=0.758, total=   1.7s\n",
      "[CV] C=10, gamma=auto, kernel=poly ...................................\n",
      "[CV] ....... C=10, gamma=auto, kernel=poly, score=0.762, total=   1.9s\n",
      "[CV] C=10, gamma=auto, kernel=linear .................................\n",
      "[CV] ..... C=10, gamma=auto, kernel=linear, score=0.751, total=   4.2s\n",
      "[CV] C=10, gamma=auto, kernel=linear .................................\n",
      "[CV] ..... C=10, gamma=auto, kernel=linear, score=0.752, total=   2.9s\n",
      "[CV] C=10, gamma=auto, kernel=linear .................................\n",
      "[CV] ..... C=10, gamma=auto, kernel=linear, score=0.752, total=   4.0s\n",
      "[CV] C=10, gamma=auto, kernel=rbf ....................................\n",
      "[CV] ........ C=10, gamma=auto, kernel=rbf, score=0.767, total=   1.2s\n",
      "[CV] C=10, gamma=auto, kernel=rbf ....................................\n",
      "[CV] ........ C=10, gamma=auto, kernel=rbf, score=0.763, total=   1.2s\n",
      "[CV] C=10, gamma=auto, kernel=rbf ....................................\n",
      "[CV] ........ C=10, gamma=auto, kernel=rbf, score=0.775, total=   1.2s\n",
      "[CV] C=10, gamma=scale, kernel=poly ..................................\n",
      "[CV] ...... C=10, gamma=scale, kernel=poly, score=0.749, total=   2.4s\n",
      "[CV] C=10, gamma=scale, kernel=poly ..................................\n",
      "[CV] ...... C=10, gamma=scale, kernel=poly, score=0.758, total=   2.4s\n",
      "[CV] C=10, gamma=scale, kernel=poly ..................................\n",
      "[CV] ...... C=10, gamma=scale, kernel=poly, score=0.762, total=   2.1s\n",
      "[CV] C=10, gamma=scale, kernel=linear ................................\n",
      "[CV] .... C=10, gamma=scale, kernel=linear, score=0.751, total=   4.1s\n",
      "[CV] C=10, gamma=scale, kernel=linear ................................\n",
      "[CV] .... C=10, gamma=scale, kernel=linear, score=0.752, total=   2.8s\n",
      "[CV] C=10, gamma=scale, kernel=linear ................................\n",
      "[CV] .... C=10, gamma=scale, kernel=linear, score=0.752, total=   3.7s\n",
      "[CV] C=10, gamma=scale, kernel=rbf ...................................\n",
      "[CV] ....... C=10, gamma=scale, kernel=rbf, score=0.767, total=   1.3s\n",
      "[CV] C=10, gamma=scale, kernel=rbf ...................................\n",
      "[CV] ....... C=10, gamma=scale, kernel=rbf, score=0.765, total=   1.2s\n",
      "[CV] C=10, gamma=scale, kernel=rbf ...................................\n",
      "[CV] ....... C=10, gamma=scale, kernel=rbf, score=0.775, total=   1.2s\n"
     ]
    },
    {
     "name": "stderr",
     "output_type": "stream",
     "text": [
      "[Parallel(n_jobs=1)]: Done  54 out of  54 | elapsed:  1.1min finished\n"
     ]
    },
    {
     "data": {
      "text/plain": [
       "GridSearchCV(cv='warn', error_score='raise-deprecating',\n",
       "             estimator=SVC(C=1.0, cache_size=200, class_weight=None, coef0=0.0,\n",
       "                           decision_function_shape='ovr', degree=3,\n",
       "                           gamma='auto_deprecated', kernel='rbf', max_iter=-1,\n",
       "                           probability=False, random_state=None, shrinking=True,\n",
       "                           tol=0.001, verbose=False),\n",
       "             iid='warn', n_jobs=None,\n",
       "             param_grid={'C': [0.1, 1, 10], 'gamma': ['auto', 'scale'],\n",
       "                         'kernel': ['poly', 'linear', 'rbf']},\n",
       "             pre_dispatch='2*n_jobs', refit=True, return_train_score=False,\n",
       "             scoring=None, verbose=3)"
      ]
     },
     "execution_count": 39,
     "metadata": {},
     "output_type": "execute_result"
    }
   ],
   "source": [
    "svm_grid.fit(X_train,y_train)"
   ]
  },
  {
   "cell_type": "code",
   "execution_count": 40,
   "metadata": {},
   "outputs": [
    {
     "data": {
      "text/plain": [
       "{'C': 10, 'gamma': 'scale', 'kernel': 'rbf'}"
      ]
     },
     "execution_count": 40,
     "metadata": {},
     "output_type": "execute_result"
    }
   ],
   "source": [
    "svm_grid.best_params_"
   ]
  },
  {
   "cell_type": "code",
   "execution_count": 41,
   "metadata": {},
   "outputs": [
    {
     "data": {
      "text/plain": [
       "SVC(C=10, cache_size=200, class_weight=None, coef0=0.0,\n",
       "    decision_function_shape='ovr', degree=3, gamma='scale', kernel='rbf',\n",
       "    max_iter=-1, probability=False, random_state=None, shrinking=True,\n",
       "    tol=0.001, verbose=False)"
      ]
     },
     "execution_count": 41,
     "metadata": {},
     "output_type": "execute_result"
    }
   ],
   "source": [
    "svm_grid.best_estimator_"
   ]
  },
  {
   "cell_type": "markdown",
   "metadata": {},
   "source": [
    "**Re-running predictions...**"
   ]
  },
  {
   "cell_type": "code",
   "execution_count": 42,
   "metadata": {},
   "outputs": [],
   "source": [
    "svm_grid_predictions = svm_grid.predict(X_test)"
   ]
  },
  {
   "cell_type": "code",
   "execution_count": 43,
   "metadata": {},
   "outputs": [
    {
     "name": "stdout",
     "output_type": "stream",
     "text": [
      "[[2005  155]\n",
      " [ 498  216]]\n"
     ]
    }
   ],
   "source": [
    "# [[ TN FP\n",
    "# FN TP]]\n",
    "\n",
    "print(confusion_matrix(y_test,svm_grid_predictions))"
   ]
  },
  {
   "cell_type": "code",
   "execution_count": 44,
   "metadata": {},
   "outputs": [
    {
     "name": "stdout",
     "output_type": "stream",
     "text": [
      "              precision    recall  f1-score   support\n",
      "\n",
      "           0       0.80      0.93      0.86      2160\n",
      "           1       0.58      0.30      0.40       714\n",
      "\n",
      "    accuracy                           0.77      2874\n",
      "   macro avg       0.69      0.62      0.63      2874\n",
      "weighted avg       0.75      0.77      0.75      2874\n",
      "\n"
     ]
    }
   ],
   "source": [
    "print(classification_report(y_test,svm_grid_predictions))"
   ]
  },
  {
   "cell_type": "markdown",
   "metadata": {},
   "source": [
    "# Conclusion"
   ]
  },
  {
   "cell_type": "markdown",
   "metadata": {},
   "source": [
    "\"The final model should minimize the number of borrowers who actually did not pay back their loan in full but predicted as they did.\""
   ]
  },
  {
   "cell_type": "code",
   "execution_count": null,
   "metadata": {},
   "outputs": [],
   "source": [
    "#0 = no (paid in full) = top level of confusion matrix\n",
    "#1 = yes (did not pay in full) = bottom level of confusion matrix"
   ]
  },
  {
   "cell_type": "markdown",
   "metadata": {},
   "source": [
    "*In summary:*\n",
    "\n",
    "# [[ TN FP 0\n",
    "# FN TP]] 1\n",
    "\n",
    "**RFC with grid search**\n",
    "\n",
    "- predicted 2,118 borrowers paid their loan back in full and actually did.\n",
    "- predicted 42 borrowers who paid their loan back in full who actually did not\n",
    "- 591 borrowers who did not pay their loan back in full but were predicted they did.\n",
    "- 123 borrowers who did pay their loan back in full but were predicted they did not.\n",
    "\n",
    "\n",
    "**SVM with grid search**\n",
    "\n",
    "- predicted 2,005 borrowers paid their loan back in full and actually did\n",
    "- predicted 155 borrowers paid their loan back in full who actually did not\n",
    "- 498 borrowers did not pay their loan back in full but were predicted they did.\n",
    "- 216 borrowers paird their loan back in full but were predicted they did not."
   ]
  },
  {
   "cell_type": "markdown",
   "metadata": {},
   "source": [
    "RFC predicted **42 borrowers** paid their loan back in full but actually did not. SVM predicted **155 borrowers** paid their loan back in full but actually did not."
   ]
  },
  {
   "cell_type": "markdown",
   "metadata": {},
   "source": [
    "With that said, the....\n",
    "\n",
    "# <font color = 'red'><b>RFC model performed better by minimizing the number of borrowers who actually did not pay back their loan in full but predicted as they did.</b></font>"
   ]
  },
  {
   "cell_type": "code",
   "execution_count": null,
   "metadata": {},
   "outputs": [],
   "source": []
  }
 ],
 "metadata": {
  "kernelspec": {
   "display_name": "Python 3",
   "language": "python",
   "name": "python3"
  },
  "language_info": {
   "codemirror_mode": {
    "name": "ipython",
    "version": 3
   },
   "file_extension": ".py",
   "mimetype": "text/x-python",
   "name": "python",
   "nbconvert_exporter": "python",
   "pygments_lexer": "ipython3",
   "version": "3.7.3"
  }
 },
 "nbformat": 4,
 "nbformat_minor": 1
}
